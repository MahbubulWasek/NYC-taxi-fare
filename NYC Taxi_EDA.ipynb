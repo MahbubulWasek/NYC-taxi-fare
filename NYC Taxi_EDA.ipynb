{
 "cells": [
  {
   "cell_type": "code",
   "execution_count": 3,
   "id": "6798aea4",
   "metadata": {},
   "outputs": [
    {
     "name": "stdout",
     "output_type": "stream",
     "text": [
      "Requirement already satisfied: folium in /opt/anaconda3/lib/python3.8/site-packages (0.12.1)\n",
      "Requirement already satisfied: branca>=0.3.0 in /opt/anaconda3/lib/python3.8/site-packages (from folium) (0.4.2)\n",
      "Requirement already satisfied: requests in /opt/anaconda3/lib/python3.8/site-packages (from folium) (2.25.1)\n",
      "Requirement already satisfied: numpy in /opt/anaconda3/lib/python3.8/site-packages (from folium) (1.20.3)\n",
      "Requirement already satisfied: jinja2>=2.9 in /opt/anaconda3/lib/python3.8/site-packages (from folium) (2.11.3)\n",
      "Requirement already satisfied: MarkupSafe>=0.23 in /opt/anaconda3/lib/python3.8/site-packages (from jinja2>=2.9->folium) (2.0.1)\n",
      "Requirement already satisfied: urllib3<1.27,>=1.21.1 in /opt/anaconda3/lib/python3.8/site-packages (from requests->folium) (1.26.6)\n",
      "Requirement already satisfied: idna<3,>=2.5 in /opt/anaconda3/lib/python3.8/site-packages (from requests->folium) (2.10)\n",
      "Requirement already satisfied: chardet<5,>=3.0.2 in /opt/anaconda3/lib/python3.8/site-packages (from requests->folium) (4.0.0)\n",
      "Requirement already satisfied: certifi>=2017.4.17 in /opt/anaconda3/lib/python3.8/site-packages (from requests->folium) (2021.10.8)\n"
     ]
    }
   ],
   "source": [
    "!pip install folium"
   ]
  },
  {
   "cell_type": "code",
   "execution_count": 4,
   "id": "d9639ec1",
   "metadata": {},
   "outputs": [
    {
     "name": "stdout",
     "output_type": "stream",
     "text": [
      "Requirement already satisfied: opendatasets in /opt/anaconda3/lib/python3.8/site-packages (0.1.20)\n",
      "Requirement already satisfied: tqdm in /opt/anaconda3/lib/python3.8/site-packages (from opendatasets) (4.62.0)\n",
      "Requirement already satisfied: kaggle in /opt/anaconda3/lib/python3.8/site-packages (from opendatasets) (1.5.12)\n",
      "Requirement already satisfied: click in /opt/anaconda3/lib/python3.8/site-packages (from opendatasets) (8.0.1)\n",
      "Requirement already satisfied: python-dateutil in /opt/anaconda3/lib/python3.8/site-packages (from kaggle->opendatasets) (2.8.2)\n",
      "Requirement already satisfied: requests in /opt/anaconda3/lib/python3.8/site-packages (from kaggle->opendatasets) (2.25.1)\n",
      "Requirement already satisfied: python-slugify in /opt/anaconda3/lib/python3.8/site-packages (from kaggle->opendatasets) (5.0.2)\n",
      "Requirement already satisfied: urllib3 in /opt/anaconda3/lib/python3.8/site-packages (from kaggle->opendatasets) (1.26.6)\n",
      "Requirement already satisfied: six>=1.10 in /opt/anaconda3/lib/python3.8/site-packages (from kaggle->opendatasets) (1.15.0)\n",
      "Requirement already satisfied: certifi in /opt/anaconda3/lib/python3.8/site-packages (from kaggle->opendatasets) (2021.10.8)\n",
      "Requirement already satisfied: text-unidecode>=1.3 in /opt/anaconda3/lib/python3.8/site-packages (from python-slugify->kaggle->opendatasets) (1.3)\n",
      "Requirement already satisfied: idna<3,>=2.5 in /opt/anaconda3/lib/python3.8/site-packages (from requests->kaggle->opendatasets) (2.10)\n",
      "Requirement already satisfied: chardet<5,>=3.0.2 in /opt/anaconda3/lib/python3.8/site-packages (from requests->kaggle->opendatasets) (4.0.0)\n"
     ]
    }
   ],
   "source": [
    "!pip install opendatasets"
   ]
  },
  {
   "cell_type": "code",
   "execution_count": 5,
   "id": "68ad9e2d",
   "metadata": {},
   "outputs": [],
   "source": [
    "import pandas as pd\n",
    "import matplotlib.pyplot as plt\n",
    "import seaborn as sns\n",
    "import numpy as np\n",
    "import folium\n",
    "import warnings\n",
    "from datetime import datetime\n",
    "import calendar\n",
    "from math import sin, cos, sqrt, atan2, radians\n",
    "from folium import FeatureGroup, LayerControl, Map, Marker\n",
    "from folium.plugins import HeatMap\n",
    "import matplotlib.dates as mdates\n",
    "import matplotlib as mpl\n",
    "from datetime import timedelta\n",
    "import datetime as dt\n",
    "warnings.filterwarnings('ignore')\n",
    "pd.set_option('display.max_colwidth', -1)\n",
    "plt.style.use('fivethirtyeight')\n",
    "from sklearn.cluster import KMeans\n",
    "from sklearn import preprocessing\n",
    "from sklearn.model_selection import train_test_split\n",
    "from sklearn.impute import SimpleImputer as Imputer\n",
    "from sklearn import linear_model\n",
    "from sklearn.metrics import mean_squared_error\n",
    "from sklearn.ensemble import RandomForestRegressor\n",
    "import pickle\n",
    "import zipfile"
   ]
  },
  {
   "cell_type": "code",
   "execution_count": 6,
   "id": "3989d42a",
   "metadata": {},
   "outputs": [],
   "source": [
    "import matplotlib\n",
    "import plotly.express as px\n",
    "from matplotlib.dates import DateFormatter"
   ]
  },
  {
   "cell_type": "code",
   "execution_count": 7,
   "id": "7ba5e1b2",
   "metadata": {},
   "outputs": [],
   "source": [
    "import opendatasets as od"
   ]
  },
  {
   "cell_type": "code",
   "execution_count": 8,
   "id": "5f656697",
   "metadata": {},
   "outputs": [],
   "source": [
    "import random"
   ]
  },
  {
   "cell_type": "code",
   "execution_count": 9,
   "id": "60d21510",
   "metadata": {},
   "outputs": [],
   "source": [
    "dataset_url = \"https://www.kaggle.com/c/new-york-city-taxi-fare-prediction/overview\""
   ]
  },
  {
   "cell_type": "code",
   "execution_count": 10,
   "id": "5cbc4da3",
   "metadata": {},
   "outputs": [
    {
     "name": "stdout",
     "output_type": "stream",
     "text": [
      "mkdir: /Users/akiffwasek/.kaggle: File exists\r\n"
     ]
    }
   ],
   "source": [
    "!mkdir ~/.kaggle"
   ]
  },
  {
   "cell_type": "code",
   "execution_count": 11,
   "id": "90c1ef0e",
   "metadata": {},
   "outputs": [],
   "source": [
    "!cp /Users/akiffwasek/Downloads/kaggle.json /Users/akiffwasek/.kaggle/kaggle.json"
   ]
  },
  {
   "cell_type": "code",
   "execution_count": 12,
   "id": "0e687029",
   "metadata": {},
   "outputs": [
    {
     "name": "stdout",
     "output_type": "stream",
     "text": [
      "kaggle.json\r\n"
     ]
    }
   ],
   "source": [
    "!cd /Users/akiffwasek/.kaggle && ls"
   ]
  },
  {
   "cell_type": "code",
   "execution_count": 24,
   "id": "dcf92698",
   "metadata": {},
   "outputs": [
    {
     "name": "stdout",
     "output_type": "stream",
     "text": [
      "Downloading new-york-city-taxi-fare-prediction.zip to /Users/akiffwasek/GGitproject/NYCTaxi\n",
      "100%|███████████████████████████████████████| 1.56G/1.56G [33:10<00:00, 189kB/s]\n",
      "100%|███████████████████████████████████████| 1.56G/1.56G [33:10<00:00, 841kB/s]\n"
     ]
    }
   ],
   "source": [
    "!kaggle competitions download -c new-york-city-taxi-fare-prediction --force"
   ]
  },
  {
   "cell_type": "code",
   "execution_count": 25,
   "id": "c734d22a",
   "metadata": {},
   "outputs": [],
   "source": [
    "# Helper function to unzip many \".zip\" files in a directory\n",
    "\n",
    "#from zipfile import ZipFile\n",
    "\n",
    "#def unzip_files(path):\n",
    "    \n",
    "    # Get list of files in the directory\n",
    "  #  files = os.listdir(path)\n",
    "    \n",
    "  #  for file in files:                                   #For each file in the directory\n",
    "        \n",
    "  #         if file.endswith(\".zip\"):                        # if it is a \".zip\" file\n",
    "  #           file_path = path+\"/\"+file                    # get location of the file\n",
    "  #          \n",
    "  #          with ZipFile(file_path,\"r\") as zip_file:     #Open the \".zip\" file in read mode\n",
    "  #              zip_file.extractall(path)                #extract all files in \".zip\" in the location\n",
    "    \n",
    "  #  return     "
   ]
  },
  {
   "cell_type": "code",
   "execution_count": 13,
   "id": "1e1d0356",
   "metadata": {},
   "outputs": [
    {
     "name": "stdout",
     "output_type": "stream",
     "text": [
      "total 14403216\r\n",
      "-rw-r--r--  1 akiffwasek  staff   486B 12 Dec  2019 GCP-Coupons-Instructions.rtf\r\n",
      "-rw-r--r--  1 akiffwasek  staff   348K 18 Nov 15:08 NYC Taxi_EDA.ipynb\r\n",
      "-rw-r--r--  1 akiffwasek  staff   455K 18 Nov 12:43 linreg_submission.csv\r\n",
      "-rw-r--r--  1 akiffwasek  staff   1.6G  2 Nov 20:46 new-york-city-taxi-fare-prediction.zip\r\n",
      "-rw-r--r--  1 akiffwasek  staff   335K 12 Dec  2019 sample_submission.csv\r\n",
      "-rw-r--r--  1 akiffwasek  staff   960K 12 Dec  2019 test.csv\r\n",
      "-rw-r--r--  1 akiffwasek  staff   5.3G 12 Dec  2019 train.csv\r\n"
     ]
    }
   ],
   "source": [
    "ls -lh"
   ]
  },
  {
   "cell_type": "code",
   "execution_count": 14,
   "id": "3c64ce12",
   "metadata": {},
   "outputs": [],
   "source": [
    "import os"
   ]
  },
  {
   "cell_type": "code",
   "execution_count": 32,
   "id": "6043a953",
   "metadata": {},
   "outputs": [
    {
     "name": "stdout",
     "output_type": "stream",
     "text": [
      "Password:\n"
     ]
    }
   ],
   "source": [
    "!sudo apt-get install unzip"
   ]
  },
  {
   "cell_type": "code",
   "execution_count": 33,
   "id": "bb611c8f",
   "metadata": {},
   "outputs": [
    {
     "name": "stdout",
     "output_type": "stream",
     "text": [
      "Archive:  new-york-city-taxi-fare-prediction.zip\n",
      "  inflating: GCP-Coupons-Instructions.rtf  \n",
      "  inflating: sample_submission.csv   \n",
      "  inflating: test.csv                \n",
      "  inflating: train.csv               \n"
     ]
    }
   ],
   "source": [
    "!unzip new-york-city-taxi-fare-prediction.zip"
   ]
  },
  {
   "cell_type": "code",
   "execution_count": 15,
   "id": "7a21ebbc",
   "metadata": {},
   "outputs": [
    {
     "name": "stdout",
     "output_type": "stream",
     "text": [
      "GCP-Coupons-Instructions.rtf            sample_submission.csv\r\n",
      "NYC Taxi_EDA.ipynb                      test.csv\r\n",
      "linreg_submission.csv                   train.csv\r\n",
      "new-york-city-taxi-fare-prediction.zip\r\n"
     ]
    }
   ],
   "source": [
    "ls"
   ]
  },
  {
   "cell_type": "code",
   "execution_count": 16,
   "id": "0dd56c59",
   "metadata": {
    "scrolled": true
   },
   "outputs": [
    {
     "name": "stdout",
     "output_type": "stream",
     "text": [
      "total 14403216\r\n",
      "-rw-r--r--  1 akiffwasek  staff   486B 12 Dec  2019 GCP-Coupons-Instructions.rtf\r\n",
      "-rw-r--r--  1 akiffwasek  staff   348K 18 Nov 15:08 NYC Taxi_EDA.ipynb\r\n",
      "-rw-r--r--  1 akiffwasek  staff   455K 18 Nov 12:43 linreg_submission.csv\r\n",
      "-rw-r--r--  1 akiffwasek  staff   1.6G  2 Nov 20:46 new-york-city-taxi-fare-prediction.zip\r\n",
      "-rw-r--r--  1 akiffwasek  staff   335K 12 Dec  2019 sample_submission.csv\r\n",
      "-rw-r--r--  1 akiffwasek  staff   960K 12 Dec  2019 test.csv\r\n",
      "-rw-r--r--  1 akiffwasek  staff   5.3G 12 Dec  2019 train.csv\r\n"
     ]
    }
   ],
   "source": [
    "!ls -lh"
   ]
  },
  {
   "cell_type": "code",
   "execution_count": 18,
   "id": "e81a55f4",
   "metadata": {},
   "outputs": [
    {
     "name": "stdout",
     "output_type": "stream",
     "text": [
      "key,fare_amount,pickup_datetime,pickup_longitude,pickup_latitude,dropoff_longitude,dropoff_latitude,passenger_count\r",
      "\r\n",
      "2009-06-15 17:26:21.0000001,4.5,2009-06-15 17:26:21 UTC,-73.844311,40.721319,-73.84161,40.712278,1\r",
      "\r\n",
      "2010-01-05 16:52:16.0000002,16.9,2010-01-05 16:52:16 UTC,-74.016048,40.711303,-73.979268,40.782004,1\r",
      "\r\n",
      "2011-08-18 00:35:00.00000049,5.7,2011-08-18 00:35:00 UTC,-73.982738,40.76127,-73.991242,40.750562,2\r",
      "\r\n",
      "2012-04-21 04:30:42.0000001,7.7,2012-04-21 04:30:42 UTC,-73.98713,40.733143,-73.991567,40.758092,1\r",
      "\r\n",
      "2010-03-09 07:51:00.000000135,5.3,2010-03-09 07:51:00 UTC,-73.968095,40.768008,-73.956655,40.783762,1\r",
      "\r\n",
      "2011-01-06 09:50:45.0000002,12.1,2011-01-06 09:50:45 UTC,-74.000964,40.73163,-73.972892,40.758233,1\r",
      "\r\n",
      "2012-11-20 20:35:00.0000001,7.5,2012-11-20 20:35:00 UTC,-73.980002,40.751662,-73.973802,40.764842,1\r",
      "\r\n",
      "2012-01-04 17:22:00.00000081,16.5,2012-01-04 17:22:00 UTC,-73.9513,40.774138,-73.990095,40.751048,1\r",
      "\r\n",
      "2012-12-03 13:10:00.000000125,9,2012-12-03 13:10:00 UTC,-74.006462,40.726713,-73.993078,40.731628,1\r",
      "\r\n"
     ]
    }
   ],
   "source": [
    "# Training set\n",
    "\n",
    "!head train.csv"
   ]
  },
  {
   "cell_type": "code",
   "execution_count": 20,
   "id": "a3836cc5",
   "metadata": {},
   "outputs": [
    {
     "name": "stdout",
     "output_type": "stream",
     "text": [
      "key,pickup_datetime,pickup_longitude,pickup_latitude,dropoff_longitude,dropoff_latitude,passenger_count\r",
      "\r\n",
      "2015-01-27 13:08:24.0000002,2015-01-27 13:08:24 UTC,-73.973320007324219,40.7638053894043,-73.981430053710938,40.74383544921875,1\r",
      "\r\n",
      "2015-01-27 13:08:24.0000003,2015-01-27 13:08:24 UTC,-73.986862182617188,40.719383239746094,-73.998886108398438,40.739200592041016,1\r",
      "\r\n",
      "2011-10-08 11:53:44.0000002,2011-10-08 11:53:44 UTC,-73.982524,40.75126,-73.979654,40.746139,1\r",
      "\r\n",
      "2012-12-01 21:12:12.0000002,2012-12-01 21:12:12 UTC,-73.98116,40.767807,-73.990448,40.751635,1\r",
      "\r\n",
      "2012-12-01 21:12:12.0000003,2012-12-01 21:12:12 UTC,-73.966046,40.789775,-73.988565,40.744427,1\r",
      "\r\n",
      "2012-12-01 21:12:12.0000005,2012-12-01 21:12:12 UTC,-73.960983,40.765547,-73.979177,40.740053,1\r",
      "\r\n",
      "2011-10-06 12:10:20.0000001,2011-10-06 12:10:20 UTC,-73.949013,40.773204,-73.959622,40.770893,1\r",
      "\r\n",
      "2011-10-06 12:10:20.0000003,2011-10-06 12:10:20 UTC,-73.777282,40.646636,-73.985083,40.759368,1\r",
      "\r\n",
      "2011-10-06 12:10:20.0000002,2011-10-06 12:10:20 UTC,-74.014099,40.709638,-73.995106,40.741365,1\r",
      "\r\n"
     ]
    }
   ],
   "source": [
    "# Test Set\n",
    "\n",
    "!head test.csv"
   ]
  },
  {
   "cell_type": "code",
   "execution_count": 21,
   "id": "b522346a",
   "metadata": {},
   "outputs": [
    {
     "name": "stdout",
     "output_type": "stream",
     "text": [
      "key,fare_amount\r\n",
      "2015-01-27 13:08:24.0000002,11.35\r\n",
      "2015-01-27 13:08:24.0000003,11.35\r\n",
      "2011-10-08 11:53:44.0000002,11.35\r\n",
      "2012-12-01 21:12:12.0000002,11.35\r\n",
      "2012-12-01 21:12:12.0000003,11.35\r\n",
      "2012-12-01 21:12:12.0000005,11.35\r\n",
      "2011-10-06 12:10:20.0000001,11.35\r\n",
      "2011-10-06 12:10:20.0000003,11.35\r\n",
      "2011-10-06 12:10:20.0000002,11.35\r\n"
     ]
    }
   ],
   "source": [
    "# Sample submission file\n",
    "\n",
    "!head sample_submission.csv"
   ]
  },
  {
   "cell_type": "code",
   "execution_count": 22,
   "id": "8da9213e",
   "metadata": {},
   "outputs": [
    {
     "name": "stdout",
     "output_type": "stream",
     "text": [
      " 55423856 train.csv\r\n"
     ]
    }
   ],
   "source": [
    "# Number of lines in training set\n",
    "\n",
    "!wc -l train.csv"
   ]
  },
  {
   "cell_type": "code",
   "execution_count": 23,
   "id": "604e0b55",
   "metadata": {},
   "outputs": [
    {
     "name": "stdout",
     "output_type": "stream",
     "text": [
      "    9914 test.csv\r\n"
     ]
    }
   ],
   "source": [
    "# Number of lines in test set\n",
    "\n",
    "!wc -l test.csv"
   ]
  },
  {
   "cell_type": "code",
   "execution_count": 24,
   "id": "278c24c1",
   "metadata": {},
   "outputs": [
    {
     "name": "stdout",
     "output_type": "stream",
     "text": [
      "    9915  343271 sample_submission.csv\r\n"
     ]
    }
   ],
   "source": [
    "# Number of lines in submission file\n",
    "\n",
    "!wc -lc sample_submission.csv"
   ]
  },
  {
   "cell_type": "markdown",
   "id": "e15e6fe6",
   "metadata": {},
   "source": [
    "- The Training dataset is 5.5GB is size\n",
    "- Training dataset has 55 million rows\n",
    "- Test set is less than 1K rows\n",
    "- Training set has fair_amount column but all the other columns are same in the test set"
   ]
  },
  {
   "cell_type": "code",
   "execution_count": 25,
   "id": "b30af54a",
   "metadata": {},
   "outputs": [],
   "source": [
    "sample_frac = 0.01"
   ]
  },
  {
   "cell_type": "code",
   "execution_count": 26,
   "id": "ccb7e9e1",
   "metadata": {},
   "outputs": [
    {
     "name": "stdout",
     "output_type": "stream",
     "text": [
      "CPU times: user 1min 32s, sys: 3.07 s, total: 1min 35s\n",
      "Wall time: 1min 44s\n"
     ]
    }
   ],
   "source": [
    "%%time\n",
    "\n",
    "selected_cols = 'fare_amount,pickup_datetime,pickup_longitude,pickup_latitude,dropoff_longitude,dropoff_latitude,passenger_count'.split(',')\n",
    "\n",
    "dtypes = {\n",
    "    'fare_amount': 'float32',\n",
    "    'pickup_longitude': 'float32',\n",
    "    'pickup_latitude': 'float32',\n",
    "    'dropoff_longitude': 'float32',\n",
    "    'passenger_count': 'float32'\n",
    "}\n",
    "\n",
    "def skip_row(row_idx):\n",
    "    if row_idx == 0:\n",
    "        return False\n",
    "    return random.random() > sample_frac\n",
    "\n",
    "\n",
    "random.seed(42)\n",
    "\n",
    "\n",
    "df = pd.read_csv('train.csv', \n",
    "                 usecols=selected_cols, \n",
    "                 dtype=dtypes, \n",
    "                 parse_dates=['pickup_datetime'], \n",
    "                 skiprows=skip_row)"
   ]
  },
  {
   "cell_type": "code",
   "execution_count": 27,
   "id": "27ef7ece",
   "metadata": {},
   "outputs": [
    {
     "data": {
      "text/html": [
       "<div>\n",
       "<style scoped>\n",
       "    .dataframe tbody tr th:only-of-type {\n",
       "        vertical-align: middle;\n",
       "    }\n",
       "\n",
       "    .dataframe tbody tr th {\n",
       "        vertical-align: top;\n",
       "    }\n",
       "\n",
       "    .dataframe thead th {\n",
       "        text-align: right;\n",
       "    }\n",
       "</style>\n",
       "<table border=\"1\" class=\"dataframe\">\n",
       "  <thead>\n",
       "    <tr style=\"text-align: right;\">\n",
       "      <th></th>\n",
       "      <th>fare_amount</th>\n",
       "      <th>pickup_datetime</th>\n",
       "      <th>pickup_longitude</th>\n",
       "      <th>pickup_latitude</th>\n",
       "      <th>dropoff_longitude</th>\n",
       "      <th>dropoff_latitude</th>\n",
       "      <th>passenger_count</th>\n",
       "    </tr>\n",
       "  </thead>\n",
       "  <tbody>\n",
       "    <tr>\n",
       "      <th>0</th>\n",
       "      <td>4.0</td>\n",
       "      <td>2014-12-06 20:36:22+00:00</td>\n",
       "      <td>-73.979813</td>\n",
       "      <td>40.751904</td>\n",
       "      <td>-73.979446</td>\n",
       "      <td>40.755481</td>\n",
       "      <td>1.0</td>\n",
       "    </tr>\n",
       "    <tr>\n",
       "      <th>1</th>\n",
       "      <td>8.0</td>\n",
       "      <td>2013-01-17 17:22:00+00:00</td>\n",
       "      <td>0.000000</td>\n",
       "      <td>0.000000</td>\n",
       "      <td>0.000000</td>\n",
       "      <td>0.000000</td>\n",
       "      <td>2.0</td>\n",
       "    </tr>\n",
       "    <tr>\n",
       "      <th>2</th>\n",
       "      <td>8.9</td>\n",
       "      <td>2011-06-15 18:07:00+00:00</td>\n",
       "      <td>-73.996330</td>\n",
       "      <td>40.753223</td>\n",
       "      <td>-73.978897</td>\n",
       "      <td>40.766963</td>\n",
       "      <td>3.0</td>\n",
       "    </tr>\n",
       "    <tr>\n",
       "      <th>3</th>\n",
       "      <td>6.9</td>\n",
       "      <td>2009-12-14 12:33:00+00:00</td>\n",
       "      <td>-73.982430</td>\n",
       "      <td>40.745747</td>\n",
       "      <td>-73.982430</td>\n",
       "      <td>40.745747</td>\n",
       "      <td>1.0</td>\n",
       "    </tr>\n",
       "    <tr>\n",
       "      <th>4</th>\n",
       "      <td>7.0</td>\n",
       "      <td>2013-11-06 11:26:54+00:00</td>\n",
       "      <td>-73.959061</td>\n",
       "      <td>40.781059</td>\n",
       "      <td>-73.962059</td>\n",
       "      <td>40.768604</td>\n",
       "      <td>1.0</td>\n",
       "    </tr>\n",
       "    <tr>\n",
       "      <th>...</th>\n",
       "      <td>...</td>\n",
       "      <td>...</td>\n",
       "      <td>...</td>\n",
       "      <td>...</td>\n",
       "      <td>...</td>\n",
       "      <td>...</td>\n",
       "      <td>...</td>\n",
       "    </tr>\n",
       "    <tr>\n",
       "      <th>552445</th>\n",
       "      <td>45.0</td>\n",
       "      <td>2014-02-06 23:59:45+00:00</td>\n",
       "      <td>-73.973587</td>\n",
       "      <td>40.747669</td>\n",
       "      <td>-73.999916</td>\n",
       "      <td>40.602893</td>\n",
       "      <td>1.0</td>\n",
       "    </tr>\n",
       "    <tr>\n",
       "      <th>552446</th>\n",
       "      <td>22.5</td>\n",
       "      <td>2015-01-05 15:29:08+00:00</td>\n",
       "      <td>-73.935928</td>\n",
       "      <td>40.799656</td>\n",
       "      <td>-73.985710</td>\n",
       "      <td>40.726952</td>\n",
       "      <td>2.0</td>\n",
       "    </tr>\n",
       "    <tr>\n",
       "      <th>552447</th>\n",
       "      <td>4.5</td>\n",
       "      <td>2013-02-17 22:27:00+00:00</td>\n",
       "      <td>-73.992531</td>\n",
       "      <td>40.748619</td>\n",
       "      <td>-73.998436</td>\n",
       "      <td>40.740142</td>\n",
       "      <td>1.0</td>\n",
       "    </tr>\n",
       "    <tr>\n",
       "      <th>552448</th>\n",
       "      <td>14.5</td>\n",
       "      <td>2013-01-27 12:41:00+00:00</td>\n",
       "      <td>-74.012115</td>\n",
       "      <td>40.706635</td>\n",
       "      <td>-73.988724</td>\n",
       "      <td>40.756217</td>\n",
       "      <td>1.0</td>\n",
       "    </tr>\n",
       "    <tr>\n",
       "      <th>552449</th>\n",
       "      <td>6.0</td>\n",
       "      <td>2014-10-18 07:51:00+00:00</td>\n",
       "      <td>-73.997681</td>\n",
       "      <td>40.724380</td>\n",
       "      <td>-73.994148</td>\n",
       "      <td>40.717797</td>\n",
       "      <td>1.0</td>\n",
       "    </tr>\n",
       "  </tbody>\n",
       "</table>\n",
       "<p>552450 rows × 7 columns</p>\n",
       "</div>"
      ],
      "text/plain": [
       "        fare_amount           pickup_datetime  pickup_longitude  \\\n",
       "0       4.0         2014-12-06 20:36:22+00:00 -73.979813          \n",
       "1       8.0         2013-01-17 17:22:00+00:00  0.000000           \n",
       "2       8.9         2011-06-15 18:07:00+00:00 -73.996330          \n",
       "3       6.9         2009-12-14 12:33:00+00:00 -73.982430          \n",
       "4       7.0         2013-11-06 11:26:54+00:00 -73.959061          \n",
       "...     ...                               ...        ...          \n",
       "552445  45.0        2014-02-06 23:59:45+00:00 -73.973587          \n",
       "552446  22.5        2015-01-05 15:29:08+00:00 -73.935928          \n",
       "552447  4.5         2013-02-17 22:27:00+00:00 -73.992531          \n",
       "552448  14.5        2013-01-27 12:41:00+00:00 -74.012115          \n",
       "552449  6.0         2014-10-18 07:51:00+00:00 -73.997681          \n",
       "\n",
       "        pickup_latitude  dropoff_longitude  dropoff_latitude  passenger_count  \n",
       "0       40.751904       -73.979446          40.755481         1.0              \n",
       "1       0.000000         0.000000           0.000000          2.0              \n",
       "2       40.753223       -73.978897          40.766963         3.0              \n",
       "3       40.745747       -73.982430          40.745747         1.0              \n",
       "4       40.781059       -73.962059          40.768604         1.0              \n",
       "...           ...              ...                ...         ...              \n",
       "552445  40.747669       -73.999916          40.602893         1.0              \n",
       "552446  40.799656       -73.985710          40.726952         2.0              \n",
       "552447  40.748619       -73.998436          40.740142         1.0              \n",
       "552448  40.706635       -73.988724          40.756217         1.0              \n",
       "552449  40.724380       -73.994148          40.717797         1.0              \n",
       "\n",
       "[552450 rows x 7 columns]"
      ]
     },
     "execution_count": 27,
     "metadata": {},
     "output_type": "execute_result"
    }
   ],
   "source": [
    "df"
   ]
  },
  {
   "cell_type": "code",
   "execution_count": 28,
   "id": "57437152",
   "metadata": {},
   "outputs": [],
   "source": [
    "test_df = pd.read_csv('test.csv', dtype= dtypes, parse_dates=['pickup_datetime'])"
   ]
  },
  {
   "cell_type": "code",
   "execution_count": 29,
   "id": "73a5c0d4",
   "metadata": {},
   "outputs": [
    {
     "data": {
      "text/html": [
       "<div>\n",
       "<style scoped>\n",
       "    .dataframe tbody tr th:only-of-type {\n",
       "        vertical-align: middle;\n",
       "    }\n",
       "\n",
       "    .dataframe tbody tr th {\n",
       "        vertical-align: top;\n",
       "    }\n",
       "\n",
       "    .dataframe thead th {\n",
       "        text-align: right;\n",
       "    }\n",
       "</style>\n",
       "<table border=\"1\" class=\"dataframe\">\n",
       "  <thead>\n",
       "    <tr style=\"text-align: right;\">\n",
       "      <th></th>\n",
       "      <th>key</th>\n",
       "      <th>pickup_datetime</th>\n",
       "      <th>pickup_longitude</th>\n",
       "      <th>pickup_latitude</th>\n",
       "      <th>dropoff_longitude</th>\n",
       "      <th>dropoff_latitude</th>\n",
       "      <th>passenger_count</th>\n",
       "    </tr>\n",
       "  </thead>\n",
       "  <tbody>\n",
       "    <tr>\n",
       "      <th>0</th>\n",
       "      <td>2015-01-27 13:08:24.0000002</td>\n",
       "      <td>2015-01-27 13:08:24+00:00</td>\n",
       "      <td>-73.973320</td>\n",
       "      <td>40.763805</td>\n",
       "      <td>-73.981430</td>\n",
       "      <td>40.743835</td>\n",
       "      <td>1.0</td>\n",
       "    </tr>\n",
       "    <tr>\n",
       "      <th>1</th>\n",
       "      <td>2015-01-27 13:08:24.0000003</td>\n",
       "      <td>2015-01-27 13:08:24+00:00</td>\n",
       "      <td>-73.986862</td>\n",
       "      <td>40.719383</td>\n",
       "      <td>-73.998886</td>\n",
       "      <td>40.739201</td>\n",
       "      <td>1.0</td>\n",
       "    </tr>\n",
       "    <tr>\n",
       "      <th>2</th>\n",
       "      <td>2011-10-08 11:53:44.0000002</td>\n",
       "      <td>2011-10-08 11:53:44+00:00</td>\n",
       "      <td>-73.982521</td>\n",
       "      <td>40.751259</td>\n",
       "      <td>-73.979652</td>\n",
       "      <td>40.746139</td>\n",
       "      <td>1.0</td>\n",
       "    </tr>\n",
       "    <tr>\n",
       "      <th>3</th>\n",
       "      <td>2012-12-01 21:12:12.0000002</td>\n",
       "      <td>2012-12-01 21:12:12+00:00</td>\n",
       "      <td>-73.981163</td>\n",
       "      <td>40.767807</td>\n",
       "      <td>-73.990448</td>\n",
       "      <td>40.751635</td>\n",
       "      <td>1.0</td>\n",
       "    </tr>\n",
       "    <tr>\n",
       "      <th>4</th>\n",
       "      <td>2012-12-01 21:12:12.0000003</td>\n",
       "      <td>2012-12-01 21:12:12+00:00</td>\n",
       "      <td>-73.966049</td>\n",
       "      <td>40.789776</td>\n",
       "      <td>-73.988564</td>\n",
       "      <td>40.744427</td>\n",
       "      <td>1.0</td>\n",
       "    </tr>\n",
       "    <tr>\n",
       "      <th>...</th>\n",
       "      <td>...</td>\n",
       "      <td>...</td>\n",
       "      <td>...</td>\n",
       "      <td>...</td>\n",
       "      <td>...</td>\n",
       "      <td>...</td>\n",
       "      <td>...</td>\n",
       "    </tr>\n",
       "    <tr>\n",
       "      <th>9909</th>\n",
       "      <td>2015-05-10 12:37:51.0000002</td>\n",
       "      <td>2015-05-10 12:37:51+00:00</td>\n",
       "      <td>-73.968124</td>\n",
       "      <td>40.796997</td>\n",
       "      <td>-73.955643</td>\n",
       "      <td>40.780388</td>\n",
       "      <td>6.0</td>\n",
       "    </tr>\n",
       "    <tr>\n",
       "      <th>9910</th>\n",
       "      <td>2015-01-12 17:05:51.0000001</td>\n",
       "      <td>2015-01-12 17:05:51+00:00</td>\n",
       "      <td>-73.945511</td>\n",
       "      <td>40.803600</td>\n",
       "      <td>-73.960213</td>\n",
       "      <td>40.776371</td>\n",
       "      <td>6.0</td>\n",
       "    </tr>\n",
       "    <tr>\n",
       "      <th>9911</th>\n",
       "      <td>2015-04-19 20:44:15.0000001</td>\n",
       "      <td>2015-04-19 20:44:15+00:00</td>\n",
       "      <td>-73.991600</td>\n",
       "      <td>40.726608</td>\n",
       "      <td>-73.789742</td>\n",
       "      <td>40.647011</td>\n",
       "      <td>6.0</td>\n",
       "    </tr>\n",
       "    <tr>\n",
       "      <th>9912</th>\n",
       "      <td>2015-01-31 01:05:19.0000005</td>\n",
       "      <td>2015-01-31 01:05:19+00:00</td>\n",
       "      <td>-73.985573</td>\n",
       "      <td>40.735432</td>\n",
       "      <td>-73.939178</td>\n",
       "      <td>40.801731</td>\n",
       "      <td>6.0</td>\n",
       "    </tr>\n",
       "    <tr>\n",
       "      <th>9913</th>\n",
       "      <td>2015-01-18 14:06:23.0000006</td>\n",
       "      <td>2015-01-18 14:06:23+00:00</td>\n",
       "      <td>-73.988022</td>\n",
       "      <td>40.754070</td>\n",
       "      <td>-74.000282</td>\n",
       "      <td>40.759220</td>\n",
       "      <td>6.0</td>\n",
       "    </tr>\n",
       "  </tbody>\n",
       "</table>\n",
       "<p>9914 rows × 7 columns</p>\n",
       "</div>"
      ],
      "text/plain": [
       "                              key           pickup_datetime  pickup_longitude  \\\n",
       "0     2015-01-27 13:08:24.0000002 2015-01-27 13:08:24+00:00 -73.973320          \n",
       "1     2015-01-27 13:08:24.0000003 2015-01-27 13:08:24+00:00 -73.986862          \n",
       "2     2011-10-08 11:53:44.0000002 2011-10-08 11:53:44+00:00 -73.982521          \n",
       "3     2012-12-01 21:12:12.0000002 2012-12-01 21:12:12+00:00 -73.981163          \n",
       "4     2012-12-01 21:12:12.0000003 2012-12-01 21:12:12+00:00 -73.966049          \n",
       "...                           ...                       ...        ...          \n",
       "9909  2015-05-10 12:37:51.0000002 2015-05-10 12:37:51+00:00 -73.968124          \n",
       "9910  2015-01-12 17:05:51.0000001 2015-01-12 17:05:51+00:00 -73.945511          \n",
       "9911  2015-04-19 20:44:15.0000001 2015-04-19 20:44:15+00:00 -73.991600          \n",
       "9912  2015-01-31 01:05:19.0000005 2015-01-31 01:05:19+00:00 -73.985573          \n",
       "9913  2015-01-18 14:06:23.0000006 2015-01-18 14:06:23+00:00 -73.988022          \n",
       "\n",
       "      pickup_latitude  dropoff_longitude  dropoff_latitude  passenger_count  \n",
       "0     40.763805       -73.981430          40.743835         1.0              \n",
       "1     40.719383       -73.998886          40.739201         1.0              \n",
       "2     40.751259       -73.979652          40.746139         1.0              \n",
       "3     40.767807       -73.990448          40.751635         1.0              \n",
       "4     40.789776       -73.988564          40.744427         1.0              \n",
       "...         ...              ...                ...         ...              \n",
       "9909  40.796997       -73.955643          40.780388         6.0              \n",
       "9910  40.803600       -73.960213          40.776371         6.0              \n",
       "9911  40.726608       -73.789742          40.647011         6.0              \n",
       "9912  40.735432       -73.939178          40.801731         6.0              \n",
       "9913  40.754070       -74.000282          40.759220         6.0              \n",
       "\n",
       "[9914 rows x 7 columns]"
      ]
     },
     "execution_count": 29,
     "metadata": {},
     "output_type": "execute_result"
    }
   ],
   "source": [
    "test_df"
   ]
  },
  {
   "cell_type": "code",
   "execution_count": 30,
   "id": "5fb2bc28",
   "metadata": {},
   "outputs": [
    {
     "name": "stdout",
     "output_type": "stream",
     "text": [
      "<class 'pandas.core.frame.DataFrame'>\n",
      "RangeIndex: 552450 entries, 0 to 552449\n",
      "Data columns (total 7 columns):\n",
      " #   Column             Non-Null Count   Dtype              \n",
      "---  ------             --------------   -----              \n",
      " 0   fare_amount        552450 non-null  float32            \n",
      " 1   pickup_datetime    552450 non-null  datetime64[ns, UTC]\n",
      " 2   pickup_longitude   552450 non-null  float32            \n",
      " 3   pickup_latitude    552450 non-null  float32            \n",
      " 4   dropoff_longitude  552450 non-null  float32            \n",
      " 5   dropoff_latitude   552450 non-null  float64            \n",
      " 6   passenger_count    552450 non-null  float32            \n",
      "dtypes: datetime64[ns, UTC](1), float32(5), float64(1)\n",
      "memory usage: 19.0 MB\n"
     ]
    }
   ],
   "source": [
    "df.info()"
   ]
  },
  {
   "cell_type": "code",
   "execution_count": 31,
   "id": "385c02ea",
   "metadata": {},
   "outputs": [
    {
     "data": {
      "text/html": [
       "<div>\n",
       "<style scoped>\n",
       "    .dataframe tbody tr th:only-of-type {\n",
       "        vertical-align: middle;\n",
       "    }\n",
       "\n",
       "    .dataframe tbody tr th {\n",
       "        vertical-align: top;\n",
       "    }\n",
       "\n",
       "    .dataframe thead th {\n",
       "        text-align: right;\n",
       "    }\n",
       "</style>\n",
       "<table border=\"1\" class=\"dataframe\">\n",
       "  <thead>\n",
       "    <tr style=\"text-align: right;\">\n",
       "      <th></th>\n",
       "      <th>fare_amount</th>\n",
       "      <th>pickup_longitude</th>\n",
       "      <th>pickup_latitude</th>\n",
       "      <th>dropoff_longitude</th>\n",
       "      <th>dropoff_latitude</th>\n",
       "      <th>passenger_count</th>\n",
       "    </tr>\n",
       "  </thead>\n",
       "  <tbody>\n",
       "    <tr>\n",
       "      <th>count</th>\n",
       "      <td>552450.000000</td>\n",
       "      <td>552450.000000</td>\n",
       "      <td>552450.000000</td>\n",
       "      <td>552450.000000</td>\n",
       "      <td>552450.000000</td>\n",
       "      <td>552450.000000</td>\n",
       "    </tr>\n",
       "    <tr>\n",
       "      <th>mean</th>\n",
       "      <td>11.354463</td>\n",
       "      <td>-72.288383</td>\n",
       "      <td>39.830513</td>\n",
       "      <td>-72.295395</td>\n",
       "      <td>39.934257</td>\n",
       "      <td>1.684983</td>\n",
       "    </tr>\n",
       "    <tr>\n",
       "      <th>std</th>\n",
       "      <td>9.810809</td>\n",
       "      <td>11.622035</td>\n",
       "      <td>8.041162</td>\n",
       "      <td>12.065184</td>\n",
       "      <td>9.255058</td>\n",
       "      <td>1.341986</td>\n",
       "    </tr>\n",
       "    <tr>\n",
       "      <th>min</th>\n",
       "      <td>-52.000000</td>\n",
       "      <td>-1183.362793</td>\n",
       "      <td>-3084.490234</td>\n",
       "      <td>-3356.729736</td>\n",
       "      <td>-2073.150613</td>\n",
       "      <td>0.000000</td>\n",
       "    </tr>\n",
       "    <tr>\n",
       "      <th>25%</th>\n",
       "      <td>6.000000</td>\n",
       "      <td>-73.992020</td>\n",
       "      <td>40.734875</td>\n",
       "      <td>-73.991425</td>\n",
       "      <td>40.733988</td>\n",
       "      <td>1.000000</td>\n",
       "    </tr>\n",
       "    <tr>\n",
       "      <th>50%</th>\n",
       "      <td>8.500000</td>\n",
       "      <td>-73.981819</td>\n",
       "      <td>40.752621</td>\n",
       "      <td>-73.980179</td>\n",
       "      <td>40.753102</td>\n",
       "      <td>1.000000</td>\n",
       "    </tr>\n",
       "    <tr>\n",
       "      <th>75%</th>\n",
       "      <td>12.500000</td>\n",
       "      <td>-73.967155</td>\n",
       "      <td>40.767036</td>\n",
       "      <td>-73.963737</td>\n",
       "      <td>40.768060</td>\n",
       "      <td>2.000000</td>\n",
       "    </tr>\n",
       "    <tr>\n",
       "      <th>max</th>\n",
       "      <td>499.000000</td>\n",
       "      <td>2420.209473</td>\n",
       "      <td>404.983337</td>\n",
       "      <td>2467.752686</td>\n",
       "      <td>3351.403027</td>\n",
       "      <td>208.000000</td>\n",
       "    </tr>\n",
       "  </tbody>\n",
       "</table>\n",
       "</div>"
      ],
      "text/plain": [
       "         fare_amount  pickup_longitude  pickup_latitude  dropoff_longitude  \\\n",
       "count  552450.000000  552450.000000     552450.000000    552450.000000       \n",
       "mean   11.354463     -72.288383         39.830513       -72.295395           \n",
       "std    9.810809       11.622035         8.041162         12.065184           \n",
       "min   -52.000000     -1183.362793      -3084.490234     -3356.729736         \n",
       "25%    6.000000      -73.992020         40.734875       -73.991425           \n",
       "50%    8.500000      -73.981819         40.752621       -73.980179           \n",
       "75%    12.500000     -73.967155         40.767036       -73.963737           \n",
       "max    499.000000     2420.209473       404.983337       2467.752686         \n",
       "\n",
       "       dropoff_latitude  passenger_count  \n",
       "count  552450.000000     552450.000000    \n",
       "mean   39.934257         1.684983         \n",
       "std    9.255058          1.341986         \n",
       "min   -2073.150613       0.000000         \n",
       "25%    40.733988         1.000000         \n",
       "50%    40.753102         1.000000         \n",
       "75%    40.768060         2.000000         \n",
       "max    3351.403027       208.000000       "
      ]
     },
     "execution_count": 31,
     "metadata": {},
     "output_type": "execute_result"
    }
   ],
   "source": [
    "df.describe()"
   ]
  },
  {
   "cell_type": "code",
   "execution_count": 32,
   "id": "d2e72dcb",
   "metadata": {},
   "outputs": [
    {
     "data": {
      "text/plain": [
       "(Timestamp('2009-01-01 00:11:46+0000', tz='UTC'),\n",
       " Timestamp('2015-06-30 23:59:54+0000', tz='UTC'))"
      ]
     },
     "execution_count": 32,
     "metadata": {},
     "output_type": "execute_result"
    }
   ],
   "source": [
    "df.pickup_datetime.min(), df.pickup_datetime.max()"
   ]
  },
  {
   "cell_type": "markdown",
   "id": "44702218",
   "metadata": {},
   "source": [
    "Observations about training data:\n",
    "\n",
    "- 550k+ rows, as expected\n",
    "- No missing data (in the sample)\n",
    "- fare_amount ranges from −52.0 to 499.0\n",
    "- passenger_count ranges from 0 to 208\n",
    "- There seem to be some errors in the latitude & longitude values\n",
    "- Dates range from 1st Jan 2009 to 30th June 2015\n",
    "- The dataset takes up ~19 MB of space in the RAM\n",
    "\n",
    "We may need to deal with outliers and data entry errors before we train our model."
   ]
  },
  {
   "cell_type": "markdown",
   "id": "0425217d",
   "metadata": {},
   "source": [
    "## TEST Set"
   ]
  },
  {
   "cell_type": "code",
   "execution_count": 33,
   "id": "31ba5b5e",
   "metadata": {},
   "outputs": [
    {
     "name": "stdout",
     "output_type": "stream",
     "text": [
      "<class 'pandas.core.frame.DataFrame'>\n",
      "RangeIndex: 9914 entries, 0 to 9913\n",
      "Data columns (total 7 columns):\n",
      " #   Column             Non-Null Count  Dtype              \n",
      "---  ------             --------------  -----              \n",
      " 0   key                9914 non-null   object             \n",
      " 1   pickup_datetime    9914 non-null   datetime64[ns, UTC]\n",
      " 2   pickup_longitude   9914 non-null   float32            \n",
      " 3   pickup_latitude    9914 non-null   float32            \n",
      " 4   dropoff_longitude  9914 non-null   float32            \n",
      " 5   dropoff_latitude   9914 non-null   float64            \n",
      " 6   passenger_count    9914 non-null   float32            \n",
      "dtypes: datetime64[ns, UTC](1), float32(4), float64(1), object(1)\n",
      "memory usage: 387.4+ KB\n"
     ]
    }
   ],
   "source": [
    "test_df.info()"
   ]
  },
  {
   "cell_type": "code",
   "execution_count": 34,
   "id": "69c7be3e",
   "metadata": {},
   "outputs": [
    {
     "data": {
      "text/html": [
       "<div>\n",
       "<style scoped>\n",
       "    .dataframe tbody tr th:only-of-type {\n",
       "        vertical-align: middle;\n",
       "    }\n",
       "\n",
       "    .dataframe tbody tr th {\n",
       "        vertical-align: top;\n",
       "    }\n",
       "\n",
       "    .dataframe thead th {\n",
       "        text-align: right;\n",
       "    }\n",
       "</style>\n",
       "<table border=\"1\" class=\"dataframe\">\n",
       "  <thead>\n",
       "    <tr style=\"text-align: right;\">\n",
       "      <th></th>\n",
       "      <th>pickup_longitude</th>\n",
       "      <th>pickup_latitude</th>\n",
       "      <th>dropoff_longitude</th>\n",
       "      <th>dropoff_latitude</th>\n",
       "      <th>passenger_count</th>\n",
       "    </tr>\n",
       "  </thead>\n",
       "  <tbody>\n",
       "    <tr>\n",
       "      <th>count</th>\n",
       "      <td>9914.000000</td>\n",
       "      <td>9914.000000</td>\n",
       "      <td>9914.000000</td>\n",
       "      <td>9914.000000</td>\n",
       "      <td>9914.000000</td>\n",
       "    </tr>\n",
       "    <tr>\n",
       "      <th>mean</th>\n",
       "      <td>-73.976181</td>\n",
       "      <td>40.750954</td>\n",
       "      <td>-73.974945</td>\n",
       "      <td>40.751743</td>\n",
       "      <td>1.671273</td>\n",
       "    </tr>\n",
       "    <tr>\n",
       "      <th>std</th>\n",
       "      <td>0.042799</td>\n",
       "      <td>0.033542</td>\n",
       "      <td>0.039093</td>\n",
       "      <td>0.035435</td>\n",
       "      <td>1.278756</td>\n",
       "    </tr>\n",
       "    <tr>\n",
       "      <th>min</th>\n",
       "      <td>-74.252190</td>\n",
       "      <td>40.573143</td>\n",
       "      <td>-74.263245</td>\n",
       "      <td>40.568973</td>\n",
       "      <td>1.000000</td>\n",
       "    </tr>\n",
       "    <tr>\n",
       "      <th>25%</th>\n",
       "      <td>-73.992500</td>\n",
       "      <td>40.736125</td>\n",
       "      <td>-73.991249</td>\n",
       "      <td>40.735254</td>\n",
       "      <td>1.000000</td>\n",
       "    </tr>\n",
       "    <tr>\n",
       "      <th>50%</th>\n",
       "      <td>-73.982327</td>\n",
       "      <td>40.753052</td>\n",
       "      <td>-73.980015</td>\n",
       "      <td>40.754065</td>\n",
       "      <td>1.000000</td>\n",
       "    </tr>\n",
       "    <tr>\n",
       "      <th>75%</th>\n",
       "      <td>-73.968012</td>\n",
       "      <td>40.767113</td>\n",
       "      <td>-73.964062</td>\n",
       "      <td>40.768757</td>\n",
       "      <td>2.000000</td>\n",
       "    </tr>\n",
       "    <tr>\n",
       "      <th>max</th>\n",
       "      <td>-72.986534</td>\n",
       "      <td>41.709557</td>\n",
       "      <td>-72.990967</td>\n",
       "      <td>41.696683</td>\n",
       "      <td>6.000000</td>\n",
       "    </tr>\n",
       "  </tbody>\n",
       "</table>\n",
       "</div>"
      ],
      "text/plain": [
       "       pickup_longitude  pickup_latitude  dropoff_longitude  dropoff_latitude  \\\n",
       "count  9914.000000       9914.000000      9914.000000        9914.000000        \n",
       "mean  -73.976181         40.750954       -73.974945          40.751743          \n",
       "std    0.042799          0.033542         0.039093           0.035435           \n",
       "min   -74.252190         40.573143       -74.263245          40.568973          \n",
       "25%   -73.992500         40.736125       -73.991249          40.735254          \n",
       "50%   -73.982327         40.753052       -73.980015          40.754065          \n",
       "75%   -73.968012         40.767113       -73.964062          40.768757          \n",
       "max   -72.986534         41.709557       -72.990967          41.696683          \n",
       "\n",
       "       passenger_count  \n",
       "count  9914.000000      \n",
       "mean   1.671273         \n",
       "std    1.278756         \n",
       "min    1.000000         \n",
       "25%    1.000000         \n",
       "50%    1.000000         \n",
       "75%    2.000000         \n",
       "max    6.000000         "
      ]
     },
     "execution_count": 34,
     "metadata": {},
     "output_type": "execute_result"
    }
   ],
   "source": [
    "test_df.describe()"
   ]
  },
  {
   "cell_type": "code",
   "execution_count": 35,
   "id": "f8ad86b2",
   "metadata": {},
   "outputs": [
    {
     "data": {
      "text/plain": [
       "(Timestamp('2009-01-01 11:04:24+0000', tz='UTC'),\n",
       " Timestamp('2015-06-30 20:03:50+0000', tz='UTC'))"
      ]
     },
     "execution_count": 35,
     "metadata": {},
     "output_type": "execute_result"
    }
   ],
   "source": [
    "test_df.pickup_datetime.min(), test_df.pickup_datetime.max()"
   ]
  },
  {
   "cell_type": "markdown",
   "id": "536ee813",
   "metadata": {},
   "source": [
    "Observations from the test dataset:\n",
    "\n",
    "- There are 9914 rows\n",
    "- No missing data\n",
    "- passengers count ranges from 1 to 6\n",
    "- Latitudes lie between 40 to 42\n",
    "- Longitudes lie between -74 to -72\n",
    "- Pickup dates range from 1 Jan 2009 to 30 June 2015\n",
    "\n",
    "We can use the ranges of the test set to drop outliers/invalid data from the training set."
   ]
  },
  {
   "cell_type": "code",
   "execution_count": 36,
   "id": "2e8e6cb4",
   "metadata": {},
   "outputs": [],
   "source": [
    "def add_dateparts(df, col):\n",
    "    df['year'] = df[col].dt.year\n",
    "    df['month'] = df[col].dt.month\n",
    "    df['day'] = df[col].dt.day\n",
    "    df['weekday'] = df[col].dt.weekday\n",
    "    df[col + '_hour'] = df[col].dt.hour"
   ]
  },
  {
   "cell_type": "code",
   "execution_count": 37,
   "id": "86d818ef",
   "metadata": {},
   "outputs": [
    {
     "name": "stdout",
     "output_type": "stream",
     "text": [
      "CPU times: user 130 ms, sys: 7.24 ms, total: 137 ms\n",
      "Wall time: 144 ms\n"
     ]
    }
   ],
   "source": [
    "%%time\n",
    "add_dateparts(df, 'pickup_datetime')"
   ]
  },
  {
   "cell_type": "code",
   "execution_count": 38,
   "id": "5a984f1f",
   "metadata": {},
   "outputs": [
    {
     "data": {
      "text/html": [
       "<div>\n",
       "<style scoped>\n",
       "    .dataframe tbody tr th:only-of-type {\n",
       "        vertical-align: middle;\n",
       "    }\n",
       "\n",
       "    .dataframe tbody tr th {\n",
       "        vertical-align: top;\n",
       "    }\n",
       "\n",
       "    .dataframe thead th {\n",
       "        text-align: right;\n",
       "    }\n",
       "</style>\n",
       "<table border=\"1\" class=\"dataframe\">\n",
       "  <thead>\n",
       "    <tr style=\"text-align: right;\">\n",
       "      <th></th>\n",
       "      <th>fare_amount</th>\n",
       "      <th>pickup_datetime</th>\n",
       "      <th>pickup_longitude</th>\n",
       "      <th>pickup_latitude</th>\n",
       "      <th>dropoff_longitude</th>\n",
       "      <th>dropoff_latitude</th>\n",
       "      <th>passenger_count</th>\n",
       "      <th>year</th>\n",
       "      <th>month</th>\n",
       "      <th>day</th>\n",
       "      <th>weekday</th>\n",
       "      <th>pickup_datetime_hour</th>\n",
       "    </tr>\n",
       "  </thead>\n",
       "  <tbody>\n",
       "    <tr>\n",
       "      <th>0</th>\n",
       "      <td>4.0</td>\n",
       "      <td>2014-12-06 20:36:22+00:00</td>\n",
       "      <td>-73.979813</td>\n",
       "      <td>40.751904</td>\n",
       "      <td>-73.979446</td>\n",
       "      <td>40.755481</td>\n",
       "      <td>1.0</td>\n",
       "      <td>2014</td>\n",
       "      <td>12</td>\n",
       "      <td>6</td>\n",
       "      <td>5</td>\n",
       "      <td>20</td>\n",
       "    </tr>\n",
       "    <tr>\n",
       "      <th>1</th>\n",
       "      <td>8.0</td>\n",
       "      <td>2013-01-17 17:22:00+00:00</td>\n",
       "      <td>0.000000</td>\n",
       "      <td>0.000000</td>\n",
       "      <td>0.000000</td>\n",
       "      <td>0.000000</td>\n",
       "      <td>2.0</td>\n",
       "      <td>2013</td>\n",
       "      <td>1</td>\n",
       "      <td>17</td>\n",
       "      <td>3</td>\n",
       "      <td>17</td>\n",
       "    </tr>\n",
       "    <tr>\n",
       "      <th>2</th>\n",
       "      <td>8.9</td>\n",
       "      <td>2011-06-15 18:07:00+00:00</td>\n",
       "      <td>-73.996330</td>\n",
       "      <td>40.753223</td>\n",
       "      <td>-73.978897</td>\n",
       "      <td>40.766963</td>\n",
       "      <td>3.0</td>\n",
       "      <td>2011</td>\n",
       "      <td>6</td>\n",
       "      <td>15</td>\n",
       "      <td>2</td>\n",
       "      <td>18</td>\n",
       "    </tr>\n",
       "    <tr>\n",
       "      <th>3</th>\n",
       "      <td>6.9</td>\n",
       "      <td>2009-12-14 12:33:00+00:00</td>\n",
       "      <td>-73.982430</td>\n",
       "      <td>40.745747</td>\n",
       "      <td>-73.982430</td>\n",
       "      <td>40.745747</td>\n",
       "      <td>1.0</td>\n",
       "      <td>2009</td>\n",
       "      <td>12</td>\n",
       "      <td>14</td>\n",
       "      <td>0</td>\n",
       "      <td>12</td>\n",
       "    </tr>\n",
       "    <tr>\n",
       "      <th>4</th>\n",
       "      <td>7.0</td>\n",
       "      <td>2013-11-06 11:26:54+00:00</td>\n",
       "      <td>-73.959061</td>\n",
       "      <td>40.781059</td>\n",
       "      <td>-73.962059</td>\n",
       "      <td>40.768604</td>\n",
       "      <td>1.0</td>\n",
       "      <td>2013</td>\n",
       "      <td>11</td>\n",
       "      <td>6</td>\n",
       "      <td>2</td>\n",
       "      <td>11</td>\n",
       "    </tr>\n",
       "  </tbody>\n",
       "</table>\n",
       "</div>"
      ],
      "text/plain": [
       "   fare_amount           pickup_datetime  pickup_longitude  pickup_latitude  \\\n",
       "0  4.0         2014-12-06 20:36:22+00:00 -73.979813         40.751904         \n",
       "1  8.0         2013-01-17 17:22:00+00:00  0.000000          0.000000          \n",
       "2  8.9         2011-06-15 18:07:00+00:00 -73.996330         40.753223         \n",
       "3  6.9         2009-12-14 12:33:00+00:00 -73.982430         40.745747         \n",
       "4  7.0         2013-11-06 11:26:54+00:00 -73.959061         40.781059         \n",
       "\n",
       "   dropoff_longitude  dropoff_latitude  passenger_count  year  month  day  \\\n",
       "0 -73.979446          40.755481         1.0              2014  12     6     \n",
       "1  0.000000           0.000000          2.0              2013  1      17    \n",
       "2 -73.978897          40.766963         3.0              2011  6      15    \n",
       "3 -73.982430          40.745747         1.0              2009  12     14    \n",
       "4 -73.962059          40.768604         1.0              2013  11     6     \n",
       "\n",
       "   weekday  pickup_datetime_hour  \n",
       "0  5        20                    \n",
       "1  3        17                    \n",
       "2  2        18                    \n",
       "3  0        12                    \n",
       "4  2        11                    "
      ]
     },
     "execution_count": 38,
     "metadata": {},
     "output_type": "execute_result"
    }
   ],
   "source": [
    "df.head()"
   ]
  },
  {
   "cell_type": "markdown",
   "id": "a13548c7",
   "metadata": {},
   "source": [
    "## Removing Outliers"
   ]
  },
  {
   "cell_type": "markdown",
   "id": "277724cd",
   "metadata": {},
   "source": [
    "We'll use the following ranges:\n",
    "\n",
    "- fare_amount: 1 to 500\n",
    "- longitudes: -75 to -72\n",
    "- latitudes: 40 to 42\n",
    "- passenger_count: 1 to 6"
   ]
  },
  {
   "cell_type": "code",
   "execution_count": 39,
   "id": "091fd05c",
   "metadata": {},
   "outputs": [],
   "source": [
    "def remove_outliers(df):\n",
    "    return df[(df['fare_amount'] >= 1.) & \n",
    "              (df['fare_amount'] <= 500.) &\n",
    "              (df['pickup_longitude'] >= -75) & \n",
    "              (df['pickup_longitude'] <= -72) & \n",
    "              (df['dropoff_longitude'] >= -75) & \n",
    "              (df['dropoff_longitude'] <= -72) & \n",
    "              (df['pickup_latitude'] >= 40) & \n",
    "              (df['pickup_latitude'] <= 42) & \n",
    "              (df['dropoff_latitude'] >=40) & \n",
    "              (df['dropoff_latitude'] <= 42) & \n",
    "              (df['passenger_count'] >= 1) & \n",
    "              (df['passenger_count'] <= 6)]"
   ]
  },
  {
   "cell_type": "code",
   "execution_count": 40,
   "id": "92dc844c",
   "metadata": {},
   "outputs": [
    {
     "name": "stdout",
     "output_type": "stream",
     "text": [
      "CPU times: user 47.9 ms, sys: 21.6 ms, total: 69.4 ms\n",
      "Wall time: 80.6 ms\n"
     ]
    }
   ],
   "source": [
    "%%time\n",
    "df = remove_outliers(df)"
   ]
  },
  {
   "cell_type": "code",
   "execution_count": 41,
   "id": "e3b981b5",
   "metadata": {},
   "outputs": [
    {
     "data": {
      "image/png": "[encoded data removed]",
      "text/plain": [
       "<Figure size 640x480 with 1 Axes>"
      ]
     },
     "metadata": {},
     "output_type": "display_data"
    }
   ],
   "source": [
    "# What is the busiest day of the week?\n",
    "\n",
    "sns.countplot(x = df['weekday']).set_title('pickup weekday distribution')\n",
    "plt.show()"
   ]
  },
  {
   "cell_type": "code",
   "execution_count": 42,
   "id": "e5d24235",
   "metadata": {},
   "outputs": [
    {
     "data": {
      "image/png": "[encoded data removed]",
      "text/plain": [
       "<Figure size 640x480 with 1 Axes>"
      ]
     },
     "metadata": {},
     "output_type": "display_data"
    }
   ],
   "source": [
    "sns.set_style(\"white\",{\"axes.facecolor\":\"white\"})\n",
    "\n",
    "sns.countplot(x= 'weekday', data = df)\n",
    "plt.title(\"Weekly Trend\", fontsize= 30, color= \"DarkBlue\")\n",
    "plt.xlabel('Day', fontsize= 25)\n",
    "plt.show()"
   ]
  },
  {
   "cell_type": "code",
   "execution_count": 43,
   "id": "05c28d88",
   "metadata": {},
   "outputs": [
    {
     "data": {
      "text/plain": [
       "0    4\n",
       "dtype: int64"
      ]
     },
     "execution_count": 43,
     "metadata": {},
     "output_type": "execute_result"
    }
   ],
   "source": [
    "df.weekday.mode()"
   ]
  },
  {
   "cell_type": "code",
   "execution_count": 44,
   "id": "1e667803",
   "metadata": {},
   "outputs": [
    {
     "data": {
      "text/plain": [
       "0    19\n",
       "dtype: int64"
      ]
     },
     "execution_count": 44,
     "metadata": {},
     "output_type": "execute_result"
    }
   ],
   "source": [
    "df.pickup_datetime_hour.mode()"
   ]
  },
  {
   "cell_type": "code",
   "execution_count": 45,
   "id": "443f27aa",
   "metadata": {},
   "outputs": [
    {
     "data": {
      "image/png": "[encoded data removed]",
      "text/plain": [
       "<Figure size 640x480 with 1 Axes>"
      ]
     },
     "metadata": {},
     "output_type": "display_data"
    }
   ],
   "source": [
    "df_fare = df.sort_values(ascending=False, by= 'fare_amount').head(50)\n",
    "plt.hist(df_fare.month)\n",
    "plt.show()"
   ]
  },
  {
   "cell_type": "code",
   "execution_count": 46,
   "id": "505fe716",
   "metadata": {},
   "outputs": [
    {
     "data": {
      "image/png": "[encoded data removed]",
      "text/plain": [
       "<Figure size 640x480 with 1 Axes>"
      ]
     },
     "metadata": {},
     "output_type": "display_data"
    }
   ],
   "source": [
    "b_plot = sns.scatterplot(data= df_fare, x='pickup_longitude', y= 'pickup_latitude', hue= 'fare_amount')\n",
    "plt.show()"
   ]
  },
  {
   "cell_type": "code",
   "execution_count": 47,
   "id": "d1877c66",
   "metadata": {},
   "outputs": [
    {
     "data": {
      "image/png": "[encoded data removed]",
      "text/plain": [
       "<Figure size 640x480 with 1 Axes>"
      ]
     },
     "metadata": {},
     "output_type": "display_data"
    }
   ],
   "source": [
    "a_plot = sns.scatterplot(x='dropoff_longitude', y= 'dropoff_latitude',hue='fare_amount',data=df_fare)\n",
    "plt.show()"
   ]
  },
  {
   "cell_type": "markdown",
   "id": "868913ef",
   "metadata": {},
   "source": [
    "## Prepare Dataset for Training\n",
    "\n",
    "- Split Training & Validation set\n",
    "- Fill/Remove Missiing Values\n",
    "- Extract Inputs & Outputs: \n",
    "      -- Training\n",
    "      -- Validatiion\n",
    "      -- Test"
   ]
  },
  {
   "cell_type": "markdown",
   "id": "675c60a8",
   "metadata": {},
   "source": [
    "### Split Training & Validation Set\n",
    "\n",
    "We'll set aside 20% of the training data as the validation set, to evaluate the models we train on previously unseen data.\n",
    "\n",
    "Since the test set and training set have the same date ranges, we can pick a random 20% fraction."
   ]
  },
  {
   "cell_type": "code",
   "execution_count": 48,
   "id": "1d1b43b7",
   "metadata": {},
   "outputs": [],
   "source": [
    "from sklearn.model_selection import train_test_split"
   ]
  },
  {
   "cell_type": "code",
   "execution_count": 49,
   "id": "a068ace7",
   "metadata": {},
   "outputs": [],
   "source": [
    "train_df, val_df = train_test_split(df, test_size= 0.2, random_state= 42 )"
   ]
  },
  {
   "cell_type": "code",
   "execution_count": 50,
   "id": "a7e64829",
   "metadata": {},
   "outputs": [
    {
     "data": {
      "text/plain": [
       "(431072, 107768)"
      ]
     },
     "execution_count": 50,
     "metadata": {},
     "output_type": "execute_result"
    }
   ],
   "source": [
    "len(train_df), len(val_df)"
   ]
  },
  {
   "cell_type": "code",
   "execution_count": 51,
   "id": "eb3e083e",
   "metadata": {},
   "outputs": [],
   "source": [
    "## Remove Null Values\n",
    "\n",
    "train_df = train_df.dropna()\n",
    "val_df = val_df.dropna()"
   ]
  },
  {
   "cell_type": "code",
   "execution_count": 52,
   "id": "784bb6ca",
   "metadata": {},
   "outputs": [
    {
     "data": {
      "text/plain": [
       "Index(['fare_amount', 'pickup_datetime', 'pickup_longitude', 'pickup_latitude',\n",
       "       'dropoff_longitude', 'dropoff_latitude', 'passenger_count', 'year',\n",
       "       'month', 'day', 'weekday', 'pickup_datetime_hour'],\n",
       "      dtype='object')"
      ]
     },
     "execution_count": 52,
     "metadata": {},
     "output_type": "execute_result"
    }
   ],
   "source": [
    "# Extract Inputs and Outputs\n",
    "\n",
    "df.columns"
   ]
  },
  {
   "cell_type": "code",
   "execution_count": 53,
   "id": "ff5043a0",
   "metadata": {},
   "outputs": [],
   "source": [
    "input_cols = ['pickup_longitude', 'pickup_latitude',\n",
    "       'dropoff_longitude', 'dropoff_latitude', 'passenger_count']"
   ]
  },
  {
   "cell_type": "code",
   "execution_count": 54,
   "id": "825d05b6",
   "metadata": {},
   "outputs": [],
   "source": [
    "target_col = 'fare_amount'"
   ]
  },
  {
   "cell_type": "code",
   "execution_count": 55,
   "id": "39940b43",
   "metadata": {},
   "outputs": [],
   "source": [
    "train_inputs = train_df[input_cols]"
   ]
  },
  {
   "cell_type": "code",
   "execution_count": 56,
   "id": "e7904e8f",
   "metadata": {},
   "outputs": [],
   "source": [
    "train_targets = train_df[target_col]"
   ]
  },
  {
   "cell_type": "code",
   "execution_count": 57,
   "id": "c21714c6",
   "metadata": {},
   "outputs": [
    {
     "data": {
      "text/html": [
       "<div>\n",
       "<style scoped>\n",
       "    .dataframe tbody tr th:only-of-type {\n",
       "        vertical-align: middle;\n",
       "    }\n",
       "\n",
       "    .dataframe tbody tr th {\n",
       "        vertical-align: top;\n",
       "    }\n",
       "\n",
       "    .dataframe thead th {\n",
       "        text-align: right;\n",
       "    }\n",
       "</style>\n",
       "<table border=\"1\" class=\"dataframe\">\n",
       "  <thead>\n",
       "    <tr style=\"text-align: right;\">\n",
       "      <th></th>\n",
       "      <th>pickup_longitude</th>\n",
       "      <th>pickup_latitude</th>\n",
       "      <th>dropoff_longitude</th>\n",
       "      <th>dropoff_latitude</th>\n",
       "      <th>passenger_count</th>\n",
       "    </tr>\n",
       "  </thead>\n",
       "  <tbody>\n",
       "    <tr>\n",
       "      <th>97996</th>\n",
       "      <td>-73.981339</td>\n",
       "      <td>40.747112</td>\n",
       "      <td>-73.986038</td>\n",
       "      <td>40.761682</td>\n",
       "      <td>1.0</td>\n",
       "    </tr>\n",
       "    <tr>\n",
       "      <th>24939</th>\n",
       "      <td>-73.993408</td>\n",
       "      <td>40.721783</td>\n",
       "      <td>-73.951218</td>\n",
       "      <td>40.774362</td>\n",
       "      <td>1.0</td>\n",
       "    </tr>\n",
       "    <tr>\n",
       "      <th>103945</th>\n",
       "      <td>-74.001640</td>\n",
       "      <td>40.735973</td>\n",
       "      <td>-73.982849</td>\n",
       "      <td>40.776028</td>\n",
       "      <td>2.0</td>\n",
       "    </tr>\n",
       "    <tr>\n",
       "      <th>468460</th>\n",
       "      <td>-73.960411</td>\n",
       "      <td>40.778698</td>\n",
       "      <td>-73.953850</td>\n",
       "      <td>40.778727</td>\n",
       "      <td>1.0</td>\n",
       "    </tr>\n",
       "    <tr>\n",
       "      <th>332404</th>\n",
       "      <td>-73.998703</td>\n",
       "      <td>40.734863</td>\n",
       "      <td>-73.974426</td>\n",
       "      <td>40.761554</td>\n",
       "      <td>1.0</td>\n",
       "    </tr>\n",
       "    <tr>\n",
       "      <th>...</th>\n",
       "      <td>...</td>\n",
       "      <td>...</td>\n",
       "      <td>...</td>\n",
       "      <td>...</td>\n",
       "      <td>...</td>\n",
       "    </tr>\n",
       "    <tr>\n",
       "      <th>113003</th>\n",
       "      <td>-73.982864</td>\n",
       "      <td>40.762505</td>\n",
       "      <td>-73.993523</td>\n",
       "      <td>40.752334</td>\n",
       "      <td>2.0</td>\n",
       "    </tr>\n",
       "    <tr>\n",
       "      <th>265659</th>\n",
       "      <td>-73.959106</td>\n",
       "      <td>40.809608</td>\n",
       "      <td>-73.978371</td>\n",
       "      <td>40.766917</td>\n",
       "      <td>1.0</td>\n",
       "    </tr>\n",
       "    <tr>\n",
       "      <th>375012</th>\n",
       "      <td>-73.982201</td>\n",
       "      <td>40.776855</td>\n",
       "      <td>-73.991417</td>\n",
       "      <td>40.749823</td>\n",
       "      <td>2.0</td>\n",
       "    </tr>\n",
       "    <tr>\n",
       "      <th>135184</th>\n",
       "      <td>-74.001434</td>\n",
       "      <td>40.730949</td>\n",
       "      <td>-73.956467</td>\n",
       "      <td>40.775007</td>\n",
       "      <td>2.0</td>\n",
       "    </tr>\n",
       "    <tr>\n",
       "      <th>124971</th>\n",
       "      <td>-73.979424</td>\n",
       "      <td>40.784470</td>\n",
       "      <td>-73.989250</td>\n",
       "      <td>40.773451</td>\n",
       "      <td>1.0</td>\n",
       "    </tr>\n",
       "  </tbody>\n",
       "</table>\n",
       "<p>431072 rows × 5 columns</p>\n",
       "</div>"
      ],
      "text/plain": [
       "        pickup_longitude  pickup_latitude  dropoff_longitude  \\\n",
       "97996  -73.981339         40.747112       -73.986038           \n",
       "24939  -73.993408         40.721783       -73.951218           \n",
       "103945 -74.001640         40.735973       -73.982849           \n",
       "468460 -73.960411         40.778698       -73.953850           \n",
       "332404 -73.998703         40.734863       -73.974426           \n",
       "...           ...               ...              ...           \n",
       "113003 -73.982864         40.762505       -73.993523           \n",
       "265659 -73.959106         40.809608       -73.978371           \n",
       "375012 -73.982201         40.776855       -73.991417           \n",
       "135184 -74.001434         40.730949       -73.956467           \n",
       "124971 -73.979424         40.784470       -73.989250           \n",
       "\n",
       "        dropoff_latitude  passenger_count  \n",
       "97996   40.761682         1.0              \n",
       "24939   40.774362         1.0              \n",
       "103945  40.776028         2.0              \n",
       "468460  40.778727         1.0              \n",
       "332404  40.761554         1.0              \n",
       "...           ...         ...              \n",
       "113003  40.752334         2.0              \n",
       "265659  40.766917         1.0              \n",
       "375012  40.749823         2.0              \n",
       "135184  40.775007         2.0              \n",
       "124971  40.773451         1.0              \n",
       "\n",
       "[431072 rows x 5 columns]"
      ]
     },
     "execution_count": 57,
     "metadata": {},
     "output_type": "execute_result"
    }
   ],
   "source": [
    "train_inputs"
   ]
  },
  {
   "cell_type": "code",
   "execution_count": 58,
   "id": "d6f74835",
   "metadata": {},
   "outputs": [
    {
     "data": {
      "text/plain": [
       "97996     7.3 \n",
       "24939     15.0\n",
       "103945    12.5\n",
       "468460    4.1 \n",
       "332404    10.9\n",
       "          ... \n",
       "113003    4.9 \n",
       "265659    11.7\n",
       "375012    9.3 \n",
       "135184    13.7\n",
       "124971    5.3 \n",
       "Name: fare_amount, Length: 431072, dtype: float32"
      ]
     },
     "execution_count": 58,
     "metadata": {},
     "output_type": "execute_result"
    }
   ],
   "source": [
    "train_targets"
   ]
  },
  {
   "cell_type": "code",
   "execution_count": 59,
   "id": "99a2a12f",
   "metadata": {},
   "outputs": [],
   "source": [
    "val_inputs = val_df[input_cols]"
   ]
  },
  {
   "cell_type": "code",
   "execution_count": 60,
   "id": "b0b2dfd0",
   "metadata": {},
   "outputs": [],
   "source": [
    "val_targets = val_df[target_col]"
   ]
  },
  {
   "cell_type": "code",
   "execution_count": 61,
   "id": "2bda5518",
   "metadata": {},
   "outputs": [
    {
     "data": {
      "text/html": [
       "<div>\n",
       "<style scoped>\n",
       "    .dataframe tbody tr th:only-of-type {\n",
       "        vertical-align: middle;\n",
       "    }\n",
       "\n",
       "    .dataframe tbody tr th {\n",
       "        vertical-align: top;\n",
       "    }\n",
       "\n",
       "    .dataframe thead th {\n",
       "        text-align: right;\n",
       "    }\n",
       "</style>\n",
       "<table border=\"1\" class=\"dataframe\">\n",
       "  <thead>\n",
       "    <tr style=\"text-align: right;\">\n",
       "      <th></th>\n",
       "      <th>pickup_longitude</th>\n",
       "      <th>pickup_latitude</th>\n",
       "      <th>dropoff_longitude</th>\n",
       "      <th>dropoff_latitude</th>\n",
       "      <th>passenger_count</th>\n",
       "    </tr>\n",
       "  </thead>\n",
       "  <tbody>\n",
       "    <tr>\n",
       "      <th>138985</th>\n",
       "      <td>-73.988091</td>\n",
       "      <td>40.758911</td>\n",
       "      <td>-73.982788</td>\n",
       "      <td>40.782118</td>\n",
       "      <td>1.0</td>\n",
       "    </tr>\n",
       "    <tr>\n",
       "      <th>115859</th>\n",
       "      <td>-73.954468</td>\n",
       "      <td>40.789360</td>\n",
       "      <td>-73.945244</td>\n",
       "      <td>40.802702</td>\n",
       "      <td>2.0</td>\n",
       "    </tr>\n",
       "    <tr>\n",
       "      <th>352143</th>\n",
       "      <td>-74.003998</td>\n",
       "      <td>40.707363</td>\n",
       "      <td>-73.960571</td>\n",
       "      <td>40.812355</td>\n",
       "      <td>3.0</td>\n",
       "    </tr>\n",
       "    <tr>\n",
       "      <th>339828</th>\n",
       "      <td>-73.967766</td>\n",
       "      <td>40.802422</td>\n",
       "      <td>-73.950272</td>\n",
       "      <td>40.802175</td>\n",
       "      <td>6.0</td>\n",
       "    </tr>\n",
       "    <tr>\n",
       "      <th>98587</th>\n",
       "      <td>-73.991814</td>\n",
       "      <td>40.750168</td>\n",
       "      <td>-73.984535</td>\n",
       "      <td>40.752948</td>\n",
       "      <td>1.0</td>\n",
       "    </tr>\n",
       "    <tr>\n",
       "      <th>...</th>\n",
       "      <td>...</td>\n",
       "      <td>...</td>\n",
       "      <td>...</td>\n",
       "      <td>...</td>\n",
       "      <td>...</td>\n",
       "    </tr>\n",
       "    <tr>\n",
       "      <th>461175</th>\n",
       "      <td>-74.004211</td>\n",
       "      <td>40.738056</td>\n",
       "      <td>-74.001198</td>\n",
       "      <td>40.731024</td>\n",
       "      <td>1.0</td>\n",
       "    </tr>\n",
       "    <tr>\n",
       "      <th>196275</th>\n",
       "      <td>-73.989449</td>\n",
       "      <td>40.741711</td>\n",
       "      <td>-74.006966</td>\n",
       "      <td>40.706005</td>\n",
       "      <td>5.0</td>\n",
       "    </tr>\n",
       "    <tr>\n",
       "      <th>14776</th>\n",
       "      <td>-73.959274</td>\n",
       "      <td>40.772045</td>\n",
       "      <td>-73.949448</td>\n",
       "      <td>40.781805</td>\n",
       "      <td>2.0</td>\n",
       "    </tr>\n",
       "    <tr>\n",
       "      <th>63318</th>\n",
       "      <td>-73.983528</td>\n",
       "      <td>40.746555</td>\n",
       "      <td>-73.979774</td>\n",
       "      <td>40.743295</td>\n",
       "      <td>1.0</td>\n",
       "    </tr>\n",
       "    <tr>\n",
       "      <th>118806</th>\n",
       "      <td>-73.991264</td>\n",
       "      <td>40.755501</td>\n",
       "      <td>-74.010559</td>\n",
       "      <td>40.704697</td>\n",
       "      <td>4.0</td>\n",
       "    </tr>\n",
       "  </tbody>\n",
       "</table>\n",
       "<p>107768 rows × 5 columns</p>\n",
       "</div>"
      ],
      "text/plain": [
       "        pickup_longitude  pickup_latitude  dropoff_longitude  \\\n",
       "138985 -73.988091         40.758911       -73.982788           \n",
       "115859 -73.954468         40.789360       -73.945244           \n",
       "352143 -74.003998         40.707363       -73.960571           \n",
       "339828 -73.967766         40.802422       -73.950272           \n",
       "98587  -73.991814         40.750168       -73.984535           \n",
       "...           ...               ...              ...           \n",
       "461175 -74.004211         40.738056       -74.001198           \n",
       "196275 -73.989449         40.741711       -74.006966           \n",
       "14776  -73.959274         40.772045       -73.949448           \n",
       "63318  -73.983528         40.746555       -73.979774           \n",
       "118806 -73.991264         40.755501       -74.010559           \n",
       "\n",
       "        dropoff_latitude  passenger_count  \n",
       "138985  40.782118         1.0              \n",
       "115859  40.802702         2.0              \n",
       "352143  40.812355         3.0              \n",
       "339828  40.802175         6.0              \n",
       "98587   40.752948         1.0              \n",
       "...           ...         ...              \n",
       "461175  40.731024         1.0              \n",
       "196275  40.706005         5.0              \n",
       "14776   40.781805         2.0              \n",
       "63318   40.743295         1.0              \n",
       "118806  40.704697         4.0              \n",
       "\n",
       "[107768 rows x 5 columns]"
      ]
     },
     "execution_count": 61,
     "metadata": {},
     "output_type": "execute_result"
    }
   ],
   "source": [
    "val_inputs"
   ]
  },
  {
   "cell_type": "code",
   "execution_count": 62,
   "id": "92d88a7e",
   "metadata": {},
   "outputs": [
    {
     "data": {
      "text/plain": [
       "138985    7.3 \n",
       "115859    6.5 \n",
       "352143    24.9\n",
       "339828    7.0 \n",
       "98587     5.7 \n",
       "         ...  \n",
       "461175    5.7 \n",
       "196275    11.5\n",
       "14776     5.0 \n",
       "63318     3.7 \n",
       "118806    18.5\n",
       "Name: fare_amount, Length: 107768, dtype: float32"
      ]
     },
     "execution_count": 62,
     "metadata": {},
     "output_type": "execute_result"
    }
   ],
   "source": [
    "val_targets"
   ]
  },
  {
   "cell_type": "code",
   "execution_count": 63,
   "id": "fefe0c1a",
   "metadata": {},
   "outputs": [],
   "source": [
    "test_inputs = test_df[input_cols]"
   ]
  },
  {
   "cell_type": "code",
   "execution_count": 64,
   "id": "adcabe9e",
   "metadata": {},
   "outputs": [
    {
     "data": {
      "text/html": [
       "<div>\n",
       "<style scoped>\n",
       "    .dataframe tbody tr th:only-of-type {\n",
       "        vertical-align: middle;\n",
       "    }\n",
       "\n",
       "    .dataframe tbody tr th {\n",
       "        vertical-align: top;\n",
       "    }\n",
       "\n",
       "    .dataframe thead th {\n",
       "        text-align: right;\n",
       "    }\n",
       "</style>\n",
       "<table border=\"1\" class=\"dataframe\">\n",
       "  <thead>\n",
       "    <tr style=\"text-align: right;\">\n",
       "      <th></th>\n",
       "      <th>pickup_longitude</th>\n",
       "      <th>pickup_latitude</th>\n",
       "      <th>dropoff_longitude</th>\n",
       "      <th>dropoff_latitude</th>\n",
       "      <th>passenger_count</th>\n",
       "    </tr>\n",
       "  </thead>\n",
       "  <tbody>\n",
       "    <tr>\n",
       "      <th>0</th>\n",
       "      <td>-73.973320</td>\n",
       "      <td>40.763805</td>\n",
       "      <td>-73.981430</td>\n",
       "      <td>40.743835</td>\n",
       "      <td>1.0</td>\n",
       "    </tr>\n",
       "    <tr>\n",
       "      <th>1</th>\n",
       "      <td>-73.986862</td>\n",
       "      <td>40.719383</td>\n",
       "      <td>-73.998886</td>\n",
       "      <td>40.739201</td>\n",
       "      <td>1.0</td>\n",
       "    </tr>\n",
       "    <tr>\n",
       "      <th>2</th>\n",
       "      <td>-73.982521</td>\n",
       "      <td>40.751259</td>\n",
       "      <td>-73.979652</td>\n",
       "      <td>40.746139</td>\n",
       "      <td>1.0</td>\n",
       "    </tr>\n",
       "    <tr>\n",
       "      <th>3</th>\n",
       "      <td>-73.981163</td>\n",
       "      <td>40.767807</td>\n",
       "      <td>-73.990448</td>\n",
       "      <td>40.751635</td>\n",
       "      <td>1.0</td>\n",
       "    </tr>\n",
       "    <tr>\n",
       "      <th>4</th>\n",
       "      <td>-73.966049</td>\n",
       "      <td>40.789776</td>\n",
       "      <td>-73.988564</td>\n",
       "      <td>40.744427</td>\n",
       "      <td>1.0</td>\n",
       "    </tr>\n",
       "    <tr>\n",
       "      <th>...</th>\n",
       "      <td>...</td>\n",
       "      <td>...</td>\n",
       "      <td>...</td>\n",
       "      <td>...</td>\n",
       "      <td>...</td>\n",
       "    </tr>\n",
       "    <tr>\n",
       "      <th>9909</th>\n",
       "      <td>-73.968124</td>\n",
       "      <td>40.796997</td>\n",
       "      <td>-73.955643</td>\n",
       "      <td>40.780388</td>\n",
       "      <td>6.0</td>\n",
       "    </tr>\n",
       "    <tr>\n",
       "      <th>9910</th>\n",
       "      <td>-73.945511</td>\n",
       "      <td>40.803600</td>\n",
       "      <td>-73.960213</td>\n",
       "      <td>40.776371</td>\n",
       "      <td>6.0</td>\n",
       "    </tr>\n",
       "    <tr>\n",
       "      <th>9911</th>\n",
       "      <td>-73.991600</td>\n",
       "      <td>40.726608</td>\n",
       "      <td>-73.789742</td>\n",
       "      <td>40.647011</td>\n",
       "      <td>6.0</td>\n",
       "    </tr>\n",
       "    <tr>\n",
       "      <th>9912</th>\n",
       "      <td>-73.985573</td>\n",
       "      <td>40.735432</td>\n",
       "      <td>-73.939178</td>\n",
       "      <td>40.801731</td>\n",
       "      <td>6.0</td>\n",
       "    </tr>\n",
       "    <tr>\n",
       "      <th>9913</th>\n",
       "      <td>-73.988022</td>\n",
       "      <td>40.754070</td>\n",
       "      <td>-74.000282</td>\n",
       "      <td>40.759220</td>\n",
       "      <td>6.0</td>\n",
       "    </tr>\n",
       "  </tbody>\n",
       "</table>\n",
       "<p>9914 rows × 5 columns</p>\n",
       "</div>"
      ],
      "text/plain": [
       "      pickup_longitude  pickup_latitude  dropoff_longitude  dropoff_latitude  \\\n",
       "0    -73.973320         40.763805       -73.981430          40.743835          \n",
       "1    -73.986862         40.719383       -73.998886          40.739201          \n",
       "2    -73.982521         40.751259       -73.979652          40.746139          \n",
       "3    -73.981163         40.767807       -73.990448          40.751635          \n",
       "4    -73.966049         40.789776       -73.988564          40.744427          \n",
       "...         ...               ...              ...                ...          \n",
       "9909 -73.968124         40.796997       -73.955643          40.780388          \n",
       "9910 -73.945511         40.803600       -73.960213          40.776371          \n",
       "9911 -73.991600         40.726608       -73.789742          40.647011          \n",
       "9912 -73.985573         40.735432       -73.939178          40.801731          \n",
       "9913 -73.988022         40.754070       -74.000282          40.759220          \n",
       "\n",
       "      passenger_count  \n",
       "0     1.0              \n",
       "1     1.0              \n",
       "2     1.0              \n",
       "3     1.0              \n",
       "4     1.0              \n",
       "...   ...              \n",
       "9909  6.0              \n",
       "9910  6.0              \n",
       "9911  6.0              \n",
       "9912  6.0              \n",
       "9913  6.0              \n",
       "\n",
       "[9914 rows x 5 columns]"
      ]
     },
     "execution_count": 64,
     "metadata": {},
     "output_type": "execute_result"
    }
   ],
   "source": [
    "test_inputs"
   ]
  },
  {
   "cell_type": "markdown",
   "id": "a7b368c8",
   "metadata": {},
   "source": [
    "### Train & Evaluate Hardcoded Model"
   ]
  },
  {
   "cell_type": "code",
   "execution_count": 65,
   "id": "0c671f2e",
   "metadata": {},
   "outputs": [],
   "source": [
    "import numpy as np"
   ]
  },
  {
   "cell_type": "code",
   "execution_count": 66,
   "id": "bb894284",
   "metadata": {},
   "outputs": [],
   "source": [
    "class MeanRegressor():\n",
    "    def fit(self, inputs, targets):\n",
    "        self.mean = targets.mean()\n",
    "        \n",
    "    def predict(self, inputs):\n",
    "        return np.full(inputs.shape[0], self.mean)"
   ]
  },
  {
   "cell_type": "code",
   "execution_count": 67,
   "id": "a46a163f",
   "metadata": {},
   "outputs": [],
   "source": [
    "mean_model = MeanRegressor()"
   ]
  },
  {
   "cell_type": "code",
   "execution_count": 68,
   "id": "9c33853f",
   "metadata": {},
   "outputs": [],
   "source": [
    "mean_model.fit(train_inputs, train_targets)"
   ]
  },
  {
   "cell_type": "code",
   "execution_count": 69,
   "id": "ddb0000d",
   "metadata": {},
   "outputs": [
    {
     "data": {
      "text/plain": [
       "11.34741497039795"
      ]
     },
     "execution_count": 69,
     "metadata": {},
     "output_type": "execute_result"
    }
   ],
   "source": [
    "mean_model.mean"
   ]
  },
  {
   "cell_type": "code",
   "execution_count": 70,
   "id": "3ae86982",
   "metadata": {},
   "outputs": [],
   "source": [
    "train_preds = mean_model.predict(train_inputs)"
   ]
  },
  {
   "cell_type": "code",
   "execution_count": 71,
   "id": "fdd3dcab",
   "metadata": {},
   "outputs": [
    {
     "data": {
      "text/plain": [
       "array([11.34741497, 11.34741497, 11.34741497, ..., 11.34741497,\n",
       "       11.34741497, 11.34741497])"
      ]
     },
     "execution_count": 71,
     "metadata": {},
     "output_type": "execute_result"
    }
   ],
   "source": [
    "train_preds"
   ]
  },
  {
   "cell_type": "code",
   "execution_count": 72,
   "id": "f17ecc6c",
   "metadata": {},
   "outputs": [],
   "source": [
    "val_preds = mean_model.predict(val_inputs)"
   ]
  },
  {
   "cell_type": "code",
   "execution_count": 73,
   "id": "af0bdee7",
   "metadata": {},
   "outputs": [
    {
     "data": {
      "text/plain": [
       "array([11.34741497, 11.34741497, 11.34741497, ..., 11.34741497,\n",
       "       11.34741497, 11.34741497])"
      ]
     },
     "execution_count": 73,
     "metadata": {},
     "output_type": "execute_result"
    }
   ],
   "source": [
    "val_preds"
   ]
  },
  {
   "cell_type": "code",
   "execution_count": 74,
   "id": "ad2d4121",
   "metadata": {},
   "outputs": [],
   "source": [
    "from sklearn.metrics import mean_squared_error"
   ]
  },
  {
   "cell_type": "code",
   "execution_count": 75,
   "id": "539e4b6e",
   "metadata": {},
   "outputs": [],
   "source": [
    "train_rmse = mean_squared_error(train_targets, train_preds, squared= False)"
   ]
  },
  {
   "cell_type": "code",
   "execution_count": 76,
   "id": "fc8e0c9c",
   "metadata": {},
   "outputs": [
    {
     "data": {
      "text/plain": [
       "9.738458185675844"
      ]
     },
     "execution_count": 76,
     "metadata": {},
     "output_type": "execute_result"
    }
   ],
   "source": [
    "train_rmse"
   ]
  },
  {
   "cell_type": "code",
   "execution_count": 77,
   "id": "e258affc",
   "metadata": {},
   "outputs": [],
   "source": [
    "val_rmse = mean_squared_error(val_targets, val_preds, squared= False)"
   ]
  },
  {
   "cell_type": "code",
   "execution_count": 78,
   "id": "7791b07c",
   "metadata": {},
   "outputs": [
    {
     "data": {
      "text/plain": [
       "9.68148640432986"
      ]
     },
     "execution_count": 78,
     "metadata": {},
     "output_type": "execute_result"
    }
   ],
   "source": [
    "val_rmse"
   ]
  },
  {
   "cell_type": "markdown",
   "id": "99aa414d",
   "metadata": {},
   "source": [
    "### Train & Evaluate Baseline Model"
   ]
  },
  {
   "cell_type": "code",
   "execution_count": 79,
   "id": "1403350c",
   "metadata": {},
   "outputs": [],
   "source": [
    "from sklearn.linear_model import LinearRegression"
   ]
  },
  {
   "cell_type": "code",
   "execution_count": 80,
   "id": "6f501361",
   "metadata": {},
   "outputs": [],
   "source": [
    "linreg_model = LinearRegression()"
   ]
  },
  {
   "cell_type": "code",
   "execution_count": 81,
   "id": "87674aee",
   "metadata": {},
   "outputs": [
    {
     "data": {
      "text/plain": [
       "LinearRegression()"
      ]
     },
     "execution_count": 81,
     "metadata": {},
     "output_type": "execute_result"
    }
   ],
   "source": [
    "linreg_model.fit(train_inputs, train_targets)"
   ]
  },
  {
   "cell_type": "code",
   "execution_count": 82,
   "id": "cf7b06ae",
   "metadata": {},
   "outputs": [
    {
     "data": {
      "text/plain": [
       "array([ 9.93344236, 11.64891291,  8.49441854, ...,  8.37935818,\n",
       "       10.19509672,  7.06226221])"
      ]
     },
     "execution_count": 82,
     "metadata": {},
     "output_type": "execute_result"
    }
   ],
   "source": [
    "train_preds = linreg_model.predict(train_inputs)\n",
    "train_preds"
   ]
  },
  {
   "cell_type": "code",
   "execution_count": 83,
   "id": "61b4c843",
   "metadata": {},
   "outputs": [
    {
     "data": {
      "text/plain": [
       "array([ 7.84250629,  9.78286396,  9.5818972 , ..., 11.21892209,\n",
       "       10.95580453, 10.25720251])"
      ]
     },
     "execution_count": 83,
     "metadata": {},
     "output_type": "execute_result"
    }
   ],
   "source": [
    "val_preds = linreg_model.predict(val_inputs)\n",
    "val_preds"
   ]
  },
  {
   "cell_type": "code",
   "execution_count": 84,
   "id": "7f45aa8a",
   "metadata": {},
   "outputs": [
    {
     "data": {
      "text/plain": [
       "8.471410402777355"
      ]
     },
     "execution_count": 84,
     "metadata": {},
     "output_type": "execute_result"
    }
   ],
   "source": [
    "train_rmse = mean_squared_error(train_targets, train_preds, squared= False)\n",
    "train_rmse"
   ]
  },
  {
   "cell_type": "code",
   "execution_count": 85,
   "id": "0f6b1138",
   "metadata": {},
   "outputs": [
    {
     "data": {
      "text/plain": [
       "8.472141709771805"
      ]
     },
     "execution_count": 85,
     "metadata": {},
     "output_type": "execute_result"
    }
   ],
   "source": [
    "val_rmse = mean_squared_error(val_targets, val_preds, squared= False)\n",
    "val_rmse"
   ]
  },
  {
   "cell_type": "markdown",
   "id": "859c3ce0",
   "metadata": {},
   "source": [
    "### Make Predictions and Submit to Kaggle"
   ]
  },
  {
   "cell_type": "code",
   "execution_count": 86,
   "id": "09801b00",
   "metadata": {},
   "outputs": [
    {
     "data": {
      "text/html": [
       "<div>\n",
       "<style scoped>\n",
       "    .dataframe tbody tr th:only-of-type {\n",
       "        vertical-align: middle;\n",
       "    }\n",
       "\n",
       "    .dataframe tbody tr th {\n",
       "        vertical-align: top;\n",
       "    }\n",
       "\n",
       "    .dataframe thead th {\n",
       "        text-align: right;\n",
       "    }\n",
       "</style>\n",
       "<table border=\"1\" class=\"dataframe\">\n",
       "  <thead>\n",
       "    <tr style=\"text-align: right;\">\n",
       "      <th></th>\n",
       "      <th>pickup_longitude</th>\n",
       "      <th>pickup_latitude</th>\n",
       "      <th>dropoff_longitude</th>\n",
       "      <th>dropoff_latitude</th>\n",
       "      <th>passenger_count</th>\n",
       "    </tr>\n",
       "  </thead>\n",
       "  <tbody>\n",
       "    <tr>\n",
       "      <th>0</th>\n",
       "      <td>-73.973320</td>\n",
       "      <td>40.763805</td>\n",
       "      <td>-73.981430</td>\n",
       "      <td>40.743835</td>\n",
       "      <td>1.0</td>\n",
       "    </tr>\n",
       "    <tr>\n",
       "      <th>1</th>\n",
       "      <td>-73.986862</td>\n",
       "      <td>40.719383</td>\n",
       "      <td>-73.998886</td>\n",
       "      <td>40.739201</td>\n",
       "      <td>1.0</td>\n",
       "    </tr>\n",
       "    <tr>\n",
       "      <th>2</th>\n",
       "      <td>-73.982521</td>\n",
       "      <td>40.751259</td>\n",
       "      <td>-73.979652</td>\n",
       "      <td>40.746139</td>\n",
       "      <td>1.0</td>\n",
       "    </tr>\n",
       "    <tr>\n",
       "      <th>3</th>\n",
       "      <td>-73.981163</td>\n",
       "      <td>40.767807</td>\n",
       "      <td>-73.990448</td>\n",
       "      <td>40.751635</td>\n",
       "      <td>1.0</td>\n",
       "    </tr>\n",
       "    <tr>\n",
       "      <th>4</th>\n",
       "      <td>-73.966049</td>\n",
       "      <td>40.789776</td>\n",
       "      <td>-73.988564</td>\n",
       "      <td>40.744427</td>\n",
       "      <td>1.0</td>\n",
       "    </tr>\n",
       "    <tr>\n",
       "      <th>...</th>\n",
       "      <td>...</td>\n",
       "      <td>...</td>\n",
       "      <td>...</td>\n",
       "      <td>...</td>\n",
       "      <td>...</td>\n",
       "    </tr>\n",
       "    <tr>\n",
       "      <th>9909</th>\n",
       "      <td>-73.968124</td>\n",
       "      <td>40.796997</td>\n",
       "      <td>-73.955643</td>\n",
       "      <td>40.780388</td>\n",
       "      <td>6.0</td>\n",
       "    </tr>\n",
       "    <tr>\n",
       "      <th>9910</th>\n",
       "      <td>-73.945511</td>\n",
       "      <td>40.803600</td>\n",
       "      <td>-73.960213</td>\n",
       "      <td>40.776371</td>\n",
       "      <td>6.0</td>\n",
       "    </tr>\n",
       "    <tr>\n",
       "      <th>9911</th>\n",
       "      <td>-73.991600</td>\n",
       "      <td>40.726608</td>\n",
       "      <td>-73.789742</td>\n",
       "      <td>40.647011</td>\n",
       "      <td>6.0</td>\n",
       "    </tr>\n",
       "    <tr>\n",
       "      <th>9912</th>\n",
       "      <td>-73.985573</td>\n",
       "      <td>40.735432</td>\n",
       "      <td>-73.939178</td>\n",
       "      <td>40.801731</td>\n",
       "      <td>6.0</td>\n",
       "    </tr>\n",
       "    <tr>\n",
       "      <th>9913</th>\n",
       "      <td>-73.988022</td>\n",
       "      <td>40.754070</td>\n",
       "      <td>-74.000282</td>\n",
       "      <td>40.759220</td>\n",
       "      <td>6.0</td>\n",
       "    </tr>\n",
       "  </tbody>\n",
       "</table>\n",
       "<p>9914 rows × 5 columns</p>\n",
       "</div>"
      ],
      "text/plain": [
       "      pickup_longitude  pickup_latitude  dropoff_longitude  dropoff_latitude  \\\n",
       "0    -73.973320         40.763805       -73.981430          40.743835          \n",
       "1    -73.986862         40.719383       -73.998886          40.739201          \n",
       "2    -73.982521         40.751259       -73.979652          40.746139          \n",
       "3    -73.981163         40.767807       -73.990448          40.751635          \n",
       "4    -73.966049         40.789776       -73.988564          40.744427          \n",
       "...         ...               ...              ...                ...          \n",
       "9909 -73.968124         40.796997       -73.955643          40.780388          \n",
       "9910 -73.945511         40.803600       -73.960213          40.776371          \n",
       "9911 -73.991600         40.726608       -73.789742          40.647011          \n",
       "9912 -73.985573         40.735432       -73.939178          40.801731          \n",
       "9913 -73.988022         40.754070       -74.000282          40.759220          \n",
       "\n",
       "      passenger_count  \n",
       "0     1.0              \n",
       "1     1.0              \n",
       "2     1.0              \n",
       "3     1.0              \n",
       "4     1.0              \n",
       "...   ...              \n",
       "9909  6.0              \n",
       "9910  6.0              \n",
       "9911  6.0              \n",
       "9912  6.0              \n",
       "9913  6.0              \n",
       "\n",
       "[9914 rows x 5 columns]"
      ]
     },
     "execution_count": 86,
     "metadata": {},
     "output_type": "execute_result"
    }
   ],
   "source": [
    "test_inputs"
   ]
  },
  {
   "cell_type": "code",
   "execution_count": 87,
   "id": "94d9ae90",
   "metadata": {},
   "outputs": [],
   "source": [
    "test_preds = linreg_model.predict(test_inputs)"
   ]
  },
  {
   "cell_type": "code",
   "execution_count": 88,
   "id": "d3af3c80",
   "metadata": {},
   "outputs": [],
   "source": [
    "submission_df = pd.read_csv('sample_submission.csv')"
   ]
  },
  {
   "cell_type": "code",
   "execution_count": 89,
   "id": "f9c9a59d",
   "metadata": {},
   "outputs": [
    {
     "data": {
      "text/html": [
       "<div>\n",
       "<style scoped>\n",
       "    .dataframe tbody tr th:only-of-type {\n",
       "        vertical-align: middle;\n",
       "    }\n",
       "\n",
       "    .dataframe tbody tr th {\n",
       "        vertical-align: top;\n",
       "    }\n",
       "\n",
       "    .dataframe thead th {\n",
       "        text-align: right;\n",
       "    }\n",
       "</style>\n",
       "<table border=\"1\" class=\"dataframe\">\n",
       "  <thead>\n",
       "    <tr style=\"text-align: right;\">\n",
       "      <th></th>\n",
       "      <th>key</th>\n",
       "      <th>fare_amount</th>\n",
       "    </tr>\n",
       "  </thead>\n",
       "  <tbody>\n",
       "    <tr>\n",
       "      <th>0</th>\n",
       "      <td>2015-01-27 13:08:24.0000002</td>\n",
       "      <td>11.35</td>\n",
       "    </tr>\n",
       "    <tr>\n",
       "      <th>1</th>\n",
       "      <td>2015-01-27 13:08:24.0000003</td>\n",
       "      <td>11.35</td>\n",
       "    </tr>\n",
       "    <tr>\n",
       "      <th>2</th>\n",
       "      <td>2011-10-08 11:53:44.0000002</td>\n",
       "      <td>11.35</td>\n",
       "    </tr>\n",
       "    <tr>\n",
       "      <th>3</th>\n",
       "      <td>2012-12-01 21:12:12.0000002</td>\n",
       "      <td>11.35</td>\n",
       "    </tr>\n",
       "    <tr>\n",
       "      <th>4</th>\n",
       "      <td>2012-12-01 21:12:12.0000003</td>\n",
       "      <td>11.35</td>\n",
       "    </tr>\n",
       "    <tr>\n",
       "      <th>...</th>\n",
       "      <td>...</td>\n",
       "      <td>...</td>\n",
       "    </tr>\n",
       "    <tr>\n",
       "      <th>9909</th>\n",
       "      <td>2015-05-10 12:37:51.0000002</td>\n",
       "      <td>11.35</td>\n",
       "    </tr>\n",
       "    <tr>\n",
       "      <th>9910</th>\n",
       "      <td>2015-01-12 17:05:51.0000001</td>\n",
       "      <td>11.35</td>\n",
       "    </tr>\n",
       "    <tr>\n",
       "      <th>9911</th>\n",
       "      <td>2015-04-19 20:44:15.0000001</td>\n",
       "      <td>11.35</td>\n",
       "    </tr>\n",
       "    <tr>\n",
       "      <th>9912</th>\n",
       "      <td>2015-01-31 01:05:19.0000005</td>\n",
       "      <td>11.35</td>\n",
       "    </tr>\n",
       "    <tr>\n",
       "      <th>9913</th>\n",
       "      <td>2015-01-18 14:06:23.0000006</td>\n",
       "      <td>11.35</td>\n",
       "    </tr>\n",
       "  </tbody>\n",
       "</table>\n",
       "<p>9914 rows × 2 columns</p>\n",
       "</div>"
      ],
      "text/plain": [
       "                              key  fare_amount\n",
       "0     2015-01-27 13:08:24.0000002  11.35      \n",
       "1     2015-01-27 13:08:24.0000003  11.35      \n",
       "2     2011-10-08 11:53:44.0000002  11.35      \n",
       "3     2012-12-01 21:12:12.0000002  11.35      \n",
       "4     2012-12-01 21:12:12.0000003  11.35      \n",
       "...                           ...    ...      \n",
       "9909  2015-05-10 12:37:51.0000002  11.35      \n",
       "9910  2015-01-12 17:05:51.0000001  11.35      \n",
       "9911  2015-04-19 20:44:15.0000001  11.35      \n",
       "9912  2015-01-31 01:05:19.0000005  11.35      \n",
       "9913  2015-01-18 14:06:23.0000006  11.35      \n",
       "\n",
       "[9914 rows x 2 columns]"
      ]
     },
     "execution_count": 89,
     "metadata": {},
     "output_type": "execute_result"
    }
   ],
   "source": [
    "submission_df"
   ]
  },
  {
   "cell_type": "code",
   "execution_count": 90,
   "id": "0ecdfd7c",
   "metadata": {},
   "outputs": [],
   "source": [
    "def generate_submission(test_preds, fname):\n",
    "    sub_df = pd.read_csv('sample_submission.csv')\n",
    "    sub_df['fare_amount'] = test_preds\n",
    "    sub_df.to_csv(fname, index=None)"
   ]
  },
  {
   "cell_type": "code",
   "execution_count": 91,
   "id": "a0c3a427",
   "metadata": {},
   "outputs": [],
   "source": [
    "generate_submission(test_preds, 'linreg_submission.csv')"
   ]
  },
  {
   "cell_type": "markdown",
   "id": "2c8bf2a4",
   "metadata": {},
   "source": [
    "### Feature Engineering\n",
    "\n",
    "- Extract parts of date\n",
    "- Remove outliers & invalid data\n",
    "- Add distance between pickup & drop\n",
    "- Add distance from landmarks"
   ]
  },
  {
   "cell_type": "markdown",
   "id": "b8cbfd2a",
   "metadata": {},
   "source": [
    "### Extract Parts of Date\n",
    "\n",
    "- Year\n",
    "- Month\n",
    "- Day\n",
    "- Weekday\n",
    "- Hour"
   ]
  },
  {
   "cell_type": "code",
   "execution_count": 92,
   "id": "197704d5",
   "metadata": {},
   "outputs": [],
   "source": [
    "def add_dateparts(df, col):\n",
    "    df[col + '_year'] = df[col].dt.year\n",
    "    df[col + '_month'] = df[col].dt.month\n",
    "    df[col + '_day'] = df[col].dt.day\n",
    "    df[col + '_weekday'] = df[col].dt.weekday\n",
    "    df[col + '_hour'] = df[col].dt.hour"
   ]
  },
  {
   "cell_type": "code",
   "execution_count": 93,
   "id": "fb852168",
   "metadata": {},
   "outputs": [],
   "source": [
    "add_dateparts(train_df, 'pickup_datetime')"
   ]
  },
  {
   "cell_type": "code",
   "execution_count": 94,
   "id": "9e11749e",
   "metadata": {},
   "outputs": [],
   "source": [
    "add_dateparts(val_df, 'pickup_datetime')"
   ]
  },
  {
   "cell_type": "code",
   "execution_count": 95,
   "id": "d9f11df9",
   "metadata": {},
   "outputs": [],
   "source": [
    "add_dateparts(test_df, 'pickup_datetime')"
   ]
  },
  {
   "cell_type": "code",
   "execution_count": 96,
   "id": "93630c3c",
   "metadata": {},
   "outputs": [
    {
     "data": {
      "text/html": [
       "<div>\n",
       "<style scoped>\n",
       "    .dataframe tbody tr th:only-of-type {\n",
       "        vertical-align: middle;\n",
       "    }\n",
       "\n",
       "    .dataframe tbody tr th {\n",
       "        vertical-align: top;\n",
       "    }\n",
       "\n",
       "    .dataframe thead th {\n",
       "        text-align: right;\n",
       "    }\n",
       "</style>\n",
       "<table border=\"1\" class=\"dataframe\">\n",
       "  <thead>\n",
       "    <tr style=\"text-align: right;\">\n",
       "      <th></th>\n",
       "      <th>fare_amount</th>\n",
       "      <th>pickup_datetime</th>\n",
       "      <th>pickup_longitude</th>\n",
       "      <th>pickup_latitude</th>\n",
       "      <th>dropoff_longitude</th>\n",
       "      <th>dropoff_latitude</th>\n",
       "      <th>passenger_count</th>\n",
       "      <th>year</th>\n",
       "      <th>month</th>\n",
       "      <th>day</th>\n",
       "      <th>weekday</th>\n",
       "      <th>pickup_datetime_hour</th>\n",
       "      <th>pickup_datetime_year</th>\n",
       "      <th>pickup_datetime_month</th>\n",
       "      <th>pickup_datetime_day</th>\n",
       "      <th>pickup_datetime_weekday</th>\n",
       "    </tr>\n",
       "  </thead>\n",
       "  <tbody>\n",
       "    <tr>\n",
       "      <th>97996</th>\n",
       "      <td>7.3</td>\n",
       "      <td>2012-06-15 22:06:27+00:00</td>\n",
       "      <td>-73.981339</td>\n",
       "      <td>40.747112</td>\n",
       "      <td>-73.986038</td>\n",
       "      <td>40.761682</td>\n",
       "      <td>1.0</td>\n",
       "      <td>2012</td>\n",
       "      <td>6</td>\n",
       "      <td>15</td>\n",
       "      <td>4</td>\n",
       "      <td>22</td>\n",
       "      <td>2012</td>\n",
       "      <td>6</td>\n",
       "      <td>15</td>\n",
       "      <td>4</td>\n",
       "    </tr>\n",
       "    <tr>\n",
       "      <th>24939</th>\n",
       "      <td>15.0</td>\n",
       "      <td>2014-03-05 22:45:00+00:00</td>\n",
       "      <td>-73.993408</td>\n",
       "      <td>40.721783</td>\n",
       "      <td>-73.951218</td>\n",
       "      <td>40.774362</td>\n",
       "      <td>1.0</td>\n",
       "      <td>2014</td>\n",
       "      <td>3</td>\n",
       "      <td>5</td>\n",
       "      <td>2</td>\n",
       "      <td>22</td>\n",
       "      <td>2014</td>\n",
       "      <td>3</td>\n",
       "      <td>5</td>\n",
       "      <td>2</td>\n",
       "    </tr>\n",
       "    <tr>\n",
       "      <th>103945</th>\n",
       "      <td>12.5</td>\n",
       "      <td>2011-02-19 22:58:52+00:00</td>\n",
       "      <td>-74.001640</td>\n",
       "      <td>40.735973</td>\n",
       "      <td>-73.982849</td>\n",
       "      <td>40.776028</td>\n",
       "      <td>2.0</td>\n",
       "      <td>2011</td>\n",
       "      <td>2</td>\n",
       "      <td>19</td>\n",
       "      <td>5</td>\n",
       "      <td>22</td>\n",
       "      <td>2011</td>\n",
       "      <td>2</td>\n",
       "      <td>19</td>\n",
       "      <td>5</td>\n",
       "    </tr>\n",
       "    <tr>\n",
       "      <th>468460</th>\n",
       "      <td>4.1</td>\n",
       "      <td>2012-07-14 16:38:00+00:00</td>\n",
       "      <td>-73.960411</td>\n",
       "      <td>40.778698</td>\n",
       "      <td>-73.953850</td>\n",
       "      <td>40.778727</td>\n",
       "      <td>1.0</td>\n",
       "      <td>2012</td>\n",
       "      <td>7</td>\n",
       "      <td>14</td>\n",
       "      <td>5</td>\n",
       "      <td>16</td>\n",
       "      <td>2012</td>\n",
       "      <td>7</td>\n",
       "      <td>14</td>\n",
       "      <td>5</td>\n",
       "    </tr>\n",
       "    <tr>\n",
       "      <th>332404</th>\n",
       "      <td>10.9</td>\n",
       "      <td>2009-12-24 14:56:47+00:00</td>\n",
       "      <td>-73.998703</td>\n",
       "      <td>40.734863</td>\n",
       "      <td>-73.974426</td>\n",
       "      <td>40.761554</td>\n",
       "      <td>1.0</td>\n",
       "      <td>2009</td>\n",
       "      <td>12</td>\n",
       "      <td>24</td>\n",
       "      <td>3</td>\n",
       "      <td>14</td>\n",
       "      <td>2009</td>\n",
       "      <td>12</td>\n",
       "      <td>24</td>\n",
       "      <td>3</td>\n",
       "    </tr>\n",
       "    <tr>\n",
       "      <th>...</th>\n",
       "      <td>...</td>\n",
       "      <td>...</td>\n",
       "      <td>...</td>\n",
       "      <td>...</td>\n",
       "      <td>...</td>\n",
       "      <td>...</td>\n",
       "      <td>...</td>\n",
       "      <td>...</td>\n",
       "      <td>...</td>\n",
       "      <td>...</td>\n",
       "      <td>...</td>\n",
       "      <td>...</td>\n",
       "      <td>...</td>\n",
       "      <td>...</td>\n",
       "      <td>...</td>\n",
       "      <td>...</td>\n",
       "    </tr>\n",
       "    <tr>\n",
       "      <th>113003</th>\n",
       "      <td>4.9</td>\n",
       "      <td>2011-03-29 02:33:40+00:00</td>\n",
       "      <td>-73.982864</td>\n",
       "      <td>40.762505</td>\n",
       "      <td>-73.993523</td>\n",
       "      <td>40.752334</td>\n",
       "      <td>2.0</td>\n",
       "      <td>2011</td>\n",
       "      <td>3</td>\n",
       "      <td>29</td>\n",
       "      <td>1</td>\n",
       "      <td>2</td>\n",
       "      <td>2011</td>\n",
       "      <td>3</td>\n",
       "      <td>29</td>\n",
       "      <td>1</td>\n",
       "    </tr>\n",
       "    <tr>\n",
       "      <th>265659</th>\n",
       "      <td>11.7</td>\n",
       "      <td>2009-04-29 00:06:00+00:00</td>\n",
       "      <td>-73.959106</td>\n",
       "      <td>40.809608</td>\n",
       "      <td>-73.978371</td>\n",
       "      <td>40.766917</td>\n",
       "      <td>1.0</td>\n",
       "      <td>2009</td>\n",
       "      <td>4</td>\n",
       "      <td>29</td>\n",
       "      <td>2</td>\n",
       "      <td>0</td>\n",
       "      <td>2009</td>\n",
       "      <td>4</td>\n",
       "      <td>29</td>\n",
       "      <td>2</td>\n",
       "    </tr>\n",
       "    <tr>\n",
       "      <th>375012</th>\n",
       "      <td>9.3</td>\n",
       "      <td>2009-06-09 22:39:51+00:00</td>\n",
       "      <td>-73.982201</td>\n",
       "      <td>40.776855</td>\n",
       "      <td>-73.991417</td>\n",
       "      <td>40.749823</td>\n",
       "      <td>2.0</td>\n",
       "      <td>2009</td>\n",
       "      <td>6</td>\n",
       "      <td>9</td>\n",
       "      <td>1</td>\n",
       "      <td>22</td>\n",
       "      <td>2009</td>\n",
       "      <td>6</td>\n",
       "      <td>9</td>\n",
       "      <td>1</td>\n",
       "    </tr>\n",
       "    <tr>\n",
       "      <th>135184</th>\n",
       "      <td>13.7</td>\n",
       "      <td>2010-08-02 21:28:00+00:00</td>\n",
       "      <td>-74.001434</td>\n",
       "      <td>40.730949</td>\n",
       "      <td>-73.956467</td>\n",
       "      <td>40.775007</td>\n",
       "      <td>2.0</td>\n",
       "      <td>2010</td>\n",
       "      <td>8</td>\n",
       "      <td>2</td>\n",
       "      <td>0</td>\n",
       "      <td>21</td>\n",
       "      <td>2010</td>\n",
       "      <td>8</td>\n",
       "      <td>2</td>\n",
       "      <td>0</td>\n",
       "    </tr>\n",
       "    <tr>\n",
       "      <th>124971</th>\n",
       "      <td>5.3</td>\n",
       "      <td>2012-03-02 14:43:46+00:00</td>\n",
       "      <td>-73.979424</td>\n",
       "      <td>40.784470</td>\n",
       "      <td>-73.989250</td>\n",
       "      <td>40.773451</td>\n",
       "      <td>1.0</td>\n",
       "      <td>2012</td>\n",
       "      <td>3</td>\n",
       "      <td>2</td>\n",
       "      <td>4</td>\n",
       "      <td>14</td>\n",
       "      <td>2012</td>\n",
       "      <td>3</td>\n",
       "      <td>2</td>\n",
       "      <td>4</td>\n",
       "    </tr>\n",
       "  </tbody>\n",
       "</table>\n",
       "<p>431072 rows × 16 columns</p>\n",
       "</div>"
      ],
      "text/plain": [
       "        fare_amount           pickup_datetime  pickup_longitude  \\\n",
       "97996   7.3         2012-06-15 22:06:27+00:00 -73.981339          \n",
       "24939   15.0        2014-03-05 22:45:00+00:00 -73.993408          \n",
       "103945  12.5        2011-02-19 22:58:52+00:00 -74.001640          \n",
       "468460  4.1         2012-07-14 16:38:00+00:00 -73.960411          \n",
       "332404  10.9        2009-12-24 14:56:47+00:00 -73.998703          \n",
       "...      ...                              ...        ...          \n",
       "113003  4.9         2011-03-29 02:33:40+00:00 -73.982864          \n",
       "265659  11.7        2009-04-29 00:06:00+00:00 -73.959106          \n",
       "375012  9.3         2009-06-09 22:39:51+00:00 -73.982201          \n",
       "135184  13.7        2010-08-02 21:28:00+00:00 -74.001434          \n",
       "124971  5.3         2012-03-02 14:43:46+00:00 -73.979424          \n",
       "\n",
       "        pickup_latitude  dropoff_longitude  dropoff_latitude  passenger_count  \\\n",
       "97996   40.747112       -73.986038          40.761682         1.0               \n",
       "24939   40.721783       -73.951218          40.774362         1.0               \n",
       "103945  40.735973       -73.982849          40.776028         2.0               \n",
       "468460  40.778698       -73.953850          40.778727         1.0               \n",
       "332404  40.734863       -73.974426          40.761554         1.0               \n",
       "...           ...              ...                ...         ...               \n",
       "113003  40.762505       -73.993523          40.752334         2.0               \n",
       "265659  40.809608       -73.978371          40.766917         1.0               \n",
       "375012  40.776855       -73.991417          40.749823         2.0               \n",
       "135184  40.730949       -73.956467          40.775007         2.0               \n",
       "124971  40.784470       -73.989250          40.773451         1.0               \n",
       "\n",
       "        year  month  day  weekday  pickup_datetime_hour  pickup_datetime_year  \\\n",
       "97996   2012  6      15   4        22                    2012                   \n",
       "24939   2014  3      5    2        22                    2014                   \n",
       "103945  2011  2      19   5        22                    2011                   \n",
       "468460  2012  7      14   5        16                    2012                   \n",
       "332404  2009  12     24   3        14                    2009                   \n",
       "...      ...  ..     ..  ..        ..                     ...                   \n",
       "113003  2011  3      29   1        2                     2011                   \n",
       "265659  2009  4      29   2        0                     2009                   \n",
       "375012  2009  6      9    1        22                    2009                   \n",
       "135184  2010  8      2    0        21                    2010                   \n",
       "124971  2012  3      2    4        14                    2012                   \n",
       "\n",
       "        pickup_datetime_month  pickup_datetime_day  pickup_datetime_weekday  \n",
       "97996   6                      15                   4                        \n",
       "24939   3                      5                    2                        \n",
       "103945  2                      19                   5                        \n",
       "468460  7                      14                   5                        \n",
       "332404  12                     24                   3                        \n",
       "...     ..                     ..                  ..                        \n",
       "113003  3                      29                   1                        \n",
       "265659  4                      29                   2                        \n",
       "375012  6                      9                    1                        \n",
       "135184  8                      2                    0                        \n",
       "124971  3                      2                    4                        \n",
       "\n",
       "[431072 rows x 16 columns]"
      ]
     },
     "execution_count": 96,
     "metadata": {},
     "output_type": "execute_result"
    }
   ],
   "source": [
    "train_df"
   ]
  },
  {
   "cell_type": "markdown",
   "id": "890153b2",
   "metadata": {},
   "source": [
    "### Add Distance Between Pickup and Drop"
   ]
  },
  {
   "cell_type": "code",
   "execution_count": 97,
   "id": "9d087a96",
   "metadata": {},
   "outputs": [],
   "source": [
    "import numpy as np\n",
    "\n",
    "def haversine_np(lon1, lat1, lon2, lat2):\n",
    "    \"\"\"\n",
    "    Calculate the great circle distance between two points\n",
    "    on the earth (specified in decimal degrees)\n",
    "\n",
    "    All args must be of equal length.    \n",
    "\n",
    "    \"\"\"\n",
    "    lon1, lat1, lon2, lat2 = map(np.radians, [lon1, lat1, lon2, lat2])\n",
    "\n",
    "    dlon = lon2 - lon1\n",
    "    dlat = lat2 - lat1\n",
    "\n",
    "    a = np.sin(dlat/2.0)**2 + np.cos(lat1) * np.cos(lat2) * np.sin(dlon/2.0)**2\n",
    "\n",
    "    c = 2 * np.arcsin(np.sqrt(a))\n",
    "    km = 6367 * c\n",
    "    return km"
   ]
  },
  {
   "cell_type": "code",
   "execution_count": 98,
   "id": "4e33efc8",
   "metadata": {},
   "outputs": [],
   "source": [
    "def add_trip_distance(df):\n",
    "    df['trip_distance'] = haversine_np(df['pickup_longitude'], df['pickup_latitude'], df['dropoff_longitude'], df['dropoff_latitude'])"
   ]
  },
  {
   "cell_type": "code",
   "execution_count": 99,
   "id": "f2d4f302",
   "metadata": {},
   "outputs": [
    {
     "name": "stdout",
     "output_type": "stream",
     "text": [
      "CPU times: user 29.5 ms, sys: 9.38 ms, total: 38.9 ms\n",
      "Wall time: 38.4 ms\n"
     ]
    }
   ],
   "source": [
    "%%time\n",
    "add_trip_distance(train_df)"
   ]
  },
  {
   "cell_type": "code",
   "execution_count": 100,
   "id": "7e747ea8",
   "metadata": {},
   "outputs": [],
   "source": [
    "add_trip_distance(val_df)"
   ]
  },
  {
   "cell_type": "code",
   "execution_count": 101,
   "id": "2042060e",
   "metadata": {},
   "outputs": [],
   "source": [
    "add_trip_distance(test_df)"
   ]
  },
  {
   "cell_type": "code",
   "execution_count": 102,
   "id": "960e328e",
   "metadata": {},
   "outputs": [
    {
     "data": {
      "text/html": [
       "<div>\n",
       "<style scoped>\n",
       "    .dataframe tbody tr th:only-of-type {\n",
       "        vertical-align: middle;\n",
       "    }\n",
       "\n",
       "    .dataframe tbody tr th {\n",
       "        vertical-align: top;\n",
       "    }\n",
       "\n",
       "    .dataframe thead th {\n",
       "        text-align: right;\n",
       "    }\n",
       "</style>\n",
       "<table border=\"1\" class=\"dataframe\">\n",
       "  <thead>\n",
       "    <tr style=\"text-align: right;\">\n",
       "      <th></th>\n",
       "      <th>fare_amount</th>\n",
       "      <th>pickup_datetime</th>\n",
       "      <th>pickup_longitude</th>\n",
       "      <th>pickup_latitude</th>\n",
       "      <th>dropoff_longitude</th>\n",
       "      <th>dropoff_latitude</th>\n",
       "      <th>passenger_count</th>\n",
       "      <th>year</th>\n",
       "      <th>month</th>\n",
       "      <th>day</th>\n",
       "      <th>weekday</th>\n",
       "      <th>pickup_datetime_hour</th>\n",
       "      <th>pickup_datetime_year</th>\n",
       "      <th>pickup_datetime_month</th>\n",
       "      <th>pickup_datetime_day</th>\n",
       "      <th>pickup_datetime_weekday</th>\n",
       "      <th>trip_distance</th>\n",
       "    </tr>\n",
       "  </thead>\n",
       "  <tbody>\n",
       "    <tr>\n",
       "      <th>503929</th>\n",
       "      <td>8.5</td>\n",
       "      <td>2011-10-30 20:11:20+00:00</td>\n",
       "      <td>-73.979309</td>\n",
       "      <td>40.727535</td>\n",
       "      <td>-74.001953</td>\n",
       "      <td>40.745038</td>\n",
       "      <td>1.0</td>\n",
       "      <td>2011</td>\n",
       "      <td>10</td>\n",
       "      <td>30</td>\n",
       "      <td>6</td>\n",
       "      <td>20</td>\n",
       "      <td>2011</td>\n",
       "      <td>10</td>\n",
       "      <td>30</td>\n",
       "      <td>6</td>\n",
       "      <td>2.723696</td>\n",
       "    </tr>\n",
       "    <tr>\n",
       "      <th>120048</th>\n",
       "      <td>4.9</td>\n",
       "      <td>2011-08-07 13:50:00+00:00</td>\n",
       "      <td>-73.981842</td>\n",
       "      <td>40.773216</td>\n",
       "      <td>-73.991241</td>\n",
       "      <td>40.765652</td>\n",
       "      <td>1.0</td>\n",
       "      <td>2011</td>\n",
       "      <td>8</td>\n",
       "      <td>7</td>\n",
       "      <td>6</td>\n",
       "      <td>13</td>\n",
       "      <td>2011</td>\n",
       "      <td>8</td>\n",
       "      <td>7</td>\n",
       "      <td>6</td>\n",
       "      <td>1.154287</td>\n",
       "    </tr>\n",
       "    <tr>\n",
       "      <th>241020</th>\n",
       "      <td>9.5</td>\n",
       "      <td>2014-07-01 18:39:00+00:00</td>\n",
       "      <td>-73.976013</td>\n",
       "      <td>40.749657</td>\n",
       "      <td>-73.952072</td>\n",
       "      <td>40.769302</td>\n",
       "      <td>1.0</td>\n",
       "      <td>2014</td>\n",
       "      <td>7</td>\n",
       "      <td>1</td>\n",
       "      <td>1</td>\n",
       "      <td>18</td>\n",
       "      <td>2014</td>\n",
       "      <td>7</td>\n",
       "      <td>1</td>\n",
       "      <td>1</td>\n",
       "      <td>2.970940</td>\n",
       "    </tr>\n",
       "    <tr>\n",
       "      <th>228633</th>\n",
       "      <td>8.5</td>\n",
       "      <td>2014-09-14 19:42:00+00:00</td>\n",
       "      <td>-73.976837</td>\n",
       "      <td>40.761600</td>\n",
       "      <td>-73.989067</td>\n",
       "      <td>40.738847</td>\n",
       "      <td>2.0</td>\n",
       "      <td>2014</td>\n",
       "      <td>9</td>\n",
       "      <td>14</td>\n",
       "      <td>6</td>\n",
       "      <td>19</td>\n",
       "      <td>2014</td>\n",
       "      <td>9</td>\n",
       "      <td>14</td>\n",
       "      <td>6</td>\n",
       "      <td>2.730011</td>\n",
       "    </tr>\n",
       "    <tr>\n",
       "      <th>364446</th>\n",
       "      <td>8.1</td>\n",
       "      <td>2010-03-29 12:31:30+00:00</td>\n",
       "      <td>-73.968727</td>\n",
       "      <td>40.750416</td>\n",
       "      <td>-73.982216</td>\n",
       "      <td>40.763031</td>\n",
       "      <td>1.0</td>\n",
       "      <td>2010</td>\n",
       "      <td>3</td>\n",
       "      <td>29</td>\n",
       "      <td>0</td>\n",
       "      <td>12</td>\n",
       "      <td>2010</td>\n",
       "      <td>3</td>\n",
       "      <td>29</td>\n",
       "      <td>0</td>\n",
       "      <td>1.804149</td>\n",
       "    </tr>\n",
       "  </tbody>\n",
       "</table>\n",
       "</div>"
      ],
      "text/plain": [
       "        fare_amount           pickup_datetime  pickup_longitude  \\\n",
       "503929  8.5         2011-10-30 20:11:20+00:00 -73.979309          \n",
       "120048  4.9         2011-08-07 13:50:00+00:00 -73.981842          \n",
       "241020  9.5         2014-07-01 18:39:00+00:00 -73.976013          \n",
       "228633  8.5         2014-09-14 19:42:00+00:00 -73.976837          \n",
       "364446  8.1         2010-03-29 12:31:30+00:00 -73.968727          \n",
       "\n",
       "        pickup_latitude  dropoff_longitude  dropoff_latitude  passenger_count  \\\n",
       "503929  40.727535       -74.001953          40.745038         1.0               \n",
       "120048  40.773216       -73.991241          40.765652         1.0               \n",
       "241020  40.749657       -73.952072          40.769302         1.0               \n",
       "228633  40.761600       -73.989067          40.738847         2.0               \n",
       "364446  40.750416       -73.982216          40.763031         1.0               \n",
       "\n",
       "        year  month  day  weekday  pickup_datetime_hour  pickup_datetime_year  \\\n",
       "503929  2011  10     30   6        20                    2011                   \n",
       "120048  2011  8      7    6        13                    2011                   \n",
       "241020  2014  7      1    1        18                    2014                   \n",
       "228633  2014  9      14   6        19                    2014                   \n",
       "364446  2010  3      29   0        12                    2010                   \n",
       "\n",
       "        pickup_datetime_month  pickup_datetime_day  pickup_datetime_weekday  \\\n",
       "503929  10                     30                   6                         \n",
       "120048  8                      7                    6                         \n",
       "241020  7                      1                    1                         \n",
       "228633  9                      14                   6                         \n",
       "364446  3                      29                   0                         \n",
       "\n",
       "        trip_distance  \n",
       "503929  2.723696       \n",
       "120048  1.154287       \n",
       "241020  2.970940       \n",
       "228633  2.730011       \n",
       "364446  1.804149       "
      ]
     },
     "execution_count": 102,
     "metadata": {},
     "output_type": "execute_result"
    }
   ],
   "source": [
    "train_df.sample(5)"
   ]
  },
  {
   "cell_type": "markdown",
   "id": "52859516",
   "metadata": {},
   "source": [
    "### Add Distance From Popular Landmarks\n",
    "\n",
    "- JFK Airport\n",
    "- LGA Airport\n",
    "- EWR Airport\n",
    "- Times Square\n",
    "- Met Museum \n",
    "- World Trade Center"
   ]
  },
  {
   "cell_type": "code",
   "execution_count": 103,
   "id": "2c01eb96",
   "metadata": {},
   "outputs": [],
   "source": [
    "jfk_lonlat = -73.7781, 40.6413\n",
    "lga_lonlat = -73.8740, 40.7769\n",
    "ewr_lonlat = -74.1745, 40.6895\n",
    "met_lonlat = -73.9632, 40.7794\n",
    "wtc_lonlat = -74.0099, 40.7126"
   ]
  },
  {
   "cell_type": "code",
   "execution_count": 104,
   "id": "4aec5f4e",
   "metadata": {},
   "outputs": [],
   "source": [
    "def add_landmark_dropoff_distance(df, landmark_name, landmark_lonlat):\n",
    "    lon, lat = landmark_lonlat\n",
    "    df[landmark_name + '_drop_distance'] = haversine_np(lon, lat, df['dropoff_longitude'], df['dropoff_latitude'])"
   ]
  },
  {
   "cell_type": "code",
   "execution_count": 105,
   "id": "d1af0742",
   "metadata": {},
   "outputs": [
    {
     "name": "stdout",
     "output_type": "stream",
     "text": [
      "CPU times: user 146 ms, sys: 22.3 ms, total: 169 ms\n",
      "Wall time: 180 ms\n"
     ]
    }
   ],
   "source": [
    "%%time\n",
    "for a_df in [train_df, val_df, test_df]:\n",
    "    for name, lonlat in [('jfk', jfk_lonlat), ('lga', lga_lonlat), ('ewr', ewr_lonlat), ('met', met_lonlat), ('wtc', wtc_lonlat)]:\n",
    "        add_landmark_dropoff_distance(a_df, name, lonlat)"
   ]
  },
  {
   "cell_type": "code",
   "execution_count": 106,
   "id": "4c10648a",
   "metadata": {},
   "outputs": [
    {
     "data": {
      "text/html": [
       "<div>\n",
       "<style scoped>\n",
       "    .dataframe tbody tr th:only-of-type {\n",
       "        vertical-align: middle;\n",
       "    }\n",
       "\n",
       "    .dataframe tbody tr th {\n",
       "        vertical-align: top;\n",
       "    }\n",
       "\n",
       "    .dataframe thead th {\n",
       "        text-align: right;\n",
       "    }\n",
       "</style>\n",
       "<table border=\"1\" class=\"dataframe\">\n",
       "  <thead>\n",
       "    <tr style=\"text-align: right;\">\n",
       "      <th></th>\n",
       "      <th>fare_amount</th>\n",
       "      <th>pickup_datetime</th>\n",
       "      <th>pickup_longitude</th>\n",
       "      <th>pickup_latitude</th>\n",
       "      <th>dropoff_longitude</th>\n",
       "      <th>dropoff_latitude</th>\n",
       "      <th>passenger_count</th>\n",
       "      <th>year</th>\n",
       "      <th>month</th>\n",
       "      <th>day</th>\n",
       "      <th>...</th>\n",
       "      <th>pickup_datetime_year</th>\n",
       "      <th>pickup_datetime_month</th>\n",
       "      <th>pickup_datetime_day</th>\n",
       "      <th>pickup_datetime_weekday</th>\n",
       "      <th>trip_distance</th>\n",
       "      <th>jfk_drop_distance</th>\n",
       "      <th>lga_drop_distance</th>\n",
       "      <th>ewr_drop_distance</th>\n",
       "      <th>met_drop_distance</th>\n",
       "      <th>wtc_drop_distance</th>\n",
       "    </tr>\n",
       "  </thead>\n",
       "  <tbody>\n",
       "    <tr>\n",
       "      <th>533199</th>\n",
       "      <td>10.5</td>\n",
       "      <td>2014-08-31 04:01:00+00:00</td>\n",
       "      <td>-73.992706</td>\n",
       "      <td>40.724045</td>\n",
       "      <td>-73.972298</td>\n",
       "      <td>40.695312</td>\n",
       "      <td>2.0</td>\n",
       "      <td>2014</td>\n",
       "      <td>8</td>\n",
       "      <td>31</td>\n",
       "      <td>...</td>\n",
       "      <td>2014</td>\n",
       "      <td>8</td>\n",
       "      <td>31</td>\n",
       "      <td>6</td>\n",
       "      <td>3.626178</td>\n",
       "      <td>17.434104</td>\n",
       "      <td>12.276047</td>\n",
       "      <td>17.049726</td>\n",
       "      <td>9.375589</td>\n",
       "      <td>3.705094</td>\n",
       "    </tr>\n",
       "    <tr>\n",
       "      <th>455357</th>\n",
       "      <td>7.3</td>\n",
       "      <td>2010-08-13 09:35:46+00:00</td>\n",
       "      <td>-74.003754</td>\n",
       "      <td>40.716934</td>\n",
       "      <td>-73.998726</td>\n",
       "      <td>40.734653</td>\n",
       "      <td>2.0</td>\n",
       "      <td>2010</td>\n",
       "      <td>8</td>\n",
       "      <td>13</td>\n",
       "      <td>...</td>\n",
       "      <td>2010</td>\n",
       "      <td>8</td>\n",
       "      <td>13</td>\n",
       "      <td>4</td>\n",
       "      <td>2.014125</td>\n",
       "      <td>21.289334</td>\n",
       "      <td>11.500917</td>\n",
       "      <td>15.633072</td>\n",
       "      <td>5.802364</td>\n",
       "      <td>2.625120</td>\n",
       "    </tr>\n",
       "    <tr>\n",
       "      <th>532347</th>\n",
       "      <td>6.5</td>\n",
       "      <td>2014-12-29 22:34:00+00:00</td>\n",
       "      <td>-73.983871</td>\n",
       "      <td>40.760410</td>\n",
       "      <td>-73.977821</td>\n",
       "      <td>40.753102</td>\n",
       "      <td>1.0</td>\n",
       "      <td>2014</td>\n",
       "      <td>12</td>\n",
       "      <td>29</td>\n",
       "      <td>...</td>\n",
       "      <td>2014</td>\n",
       "      <td>12</td>\n",
       "      <td>29</td>\n",
       "      <td>0</td>\n",
       "      <td>0.958700</td>\n",
       "      <td>20.916425</td>\n",
       "      <td>9.129389</td>\n",
       "      <td>18.009541</td>\n",
       "      <td>3.170742</td>\n",
       "      <td>5.249281</td>\n",
       "    </tr>\n",
       "    <tr>\n",
       "      <th>285354</th>\n",
       "      <td>7.3</td>\n",
       "      <td>2010-06-19 01:54:21+00:00</td>\n",
       "      <td>-74.005463</td>\n",
       "      <td>40.726303</td>\n",
       "      <td>-74.006554</td>\n",
       "      <td>40.706948</td>\n",
       "      <td>1.0</td>\n",
       "      <td>2010</td>\n",
       "      <td>6</td>\n",
       "      <td>19</td>\n",
       "      <td>...</td>\n",
       "      <td>2010</td>\n",
       "      <td>6</td>\n",
       "      <td>19</td>\n",
       "      <td>5</td>\n",
       "      <td>2.152915</td>\n",
       "      <td>20.590058</td>\n",
       "      <td>13.600677</td>\n",
       "      <td>14.281804</td>\n",
       "      <td>8.839909</td>\n",
       "      <td>0.688449</td>\n",
       "    </tr>\n",
       "    <tr>\n",
       "      <th>452299</th>\n",
       "      <td>4.1</td>\n",
       "      <td>2011-04-22 14:21:59+00:00</td>\n",
       "      <td>-73.956902</td>\n",
       "      <td>40.776691</td>\n",
       "      <td>-73.946381</td>\n",
       "      <td>40.772772</td>\n",
       "      <td>1.0</td>\n",
       "      <td>2011</td>\n",
       "      <td>4</td>\n",
       "      <td>22</td>\n",
       "      <td>...</td>\n",
       "      <td>2011</td>\n",
       "      <td>4</td>\n",
       "      <td>22</td>\n",
       "      <td>4</td>\n",
       "      <td>0.986466</td>\n",
       "      <td>20.356898</td>\n",
       "      <td>6.108206</td>\n",
       "      <td>21.322357</td>\n",
       "      <td>1.595800</td>\n",
       "      <td>8.562274</td>\n",
       "    </tr>\n",
       "  </tbody>\n",
       "</table>\n",
       "<p>5 rows × 22 columns</p>\n",
       "</div>"
      ],
      "text/plain": [
       "        fare_amount           pickup_datetime  pickup_longitude  \\\n",
       "533199  10.5        2014-08-31 04:01:00+00:00 -73.992706          \n",
       "455357  7.3         2010-08-13 09:35:46+00:00 -74.003754          \n",
       "532347  6.5         2014-12-29 22:34:00+00:00 -73.983871          \n",
       "285354  7.3         2010-06-19 01:54:21+00:00 -74.005463          \n",
       "452299  4.1         2011-04-22 14:21:59+00:00 -73.956902          \n",
       "\n",
       "        pickup_latitude  dropoff_longitude  dropoff_latitude  passenger_count  \\\n",
       "533199  40.724045       -73.972298          40.695312         2.0               \n",
       "455357  40.716934       -73.998726          40.734653         2.0               \n",
       "532347  40.760410       -73.977821          40.753102         1.0               \n",
       "285354  40.726303       -74.006554          40.706948         1.0               \n",
       "452299  40.776691       -73.946381          40.772772         1.0               \n",
       "\n",
       "        year  month  day  ...  pickup_datetime_year  pickup_datetime_month  \\\n",
       "533199  2014  8      31   ...  2014                  8                       \n",
       "455357  2010  8      13   ...  2010                  8                       \n",
       "532347  2014  12     29   ...  2014                  12                      \n",
       "285354  2010  6      19   ...  2010                  6                       \n",
       "452299  2011  4      22   ...  2011                  4                       \n",
       "\n",
       "        pickup_datetime_day  pickup_datetime_weekday  trip_distance  \\\n",
       "533199  31                   6                        3.626178        \n",
       "455357  13                   4                        2.014125        \n",
       "532347  29                   0                        0.958700        \n",
       "285354  19                   5                        2.152915        \n",
       "452299  22                   4                        0.986466        \n",
       "\n",
       "        jfk_drop_distance  lga_drop_distance  ewr_drop_distance  \\\n",
       "533199  17.434104          12.276047          17.049726           \n",
       "455357  21.289334          11.500917          15.633072           \n",
       "532347  20.916425          9.129389           18.009541           \n",
       "285354  20.590058          13.600677          14.281804           \n",
       "452299  20.356898          6.108206           21.322357           \n",
       "\n",
       "        met_drop_distance  wtc_drop_distance  \n",
       "533199  9.375589           3.705094           \n",
       "455357  5.802364           2.625120           \n",
       "532347  3.170742           5.249281           \n",
       "285354  8.839909           0.688449           \n",
       "452299  1.595800           8.562274           \n",
       "\n",
       "[5 rows x 22 columns]"
      ]
     },
     "execution_count": 106,
     "metadata": {},
     "output_type": "execute_result"
    }
   ],
   "source": [
    "train_df.sample(5)"
   ]
  },
  {
   "cell_type": "markdown",
   "id": "e5e9df34",
   "metadata": {},
   "source": [
    "### Remove Outliers and Invalid Data\n",
    "\n",
    "- Fare amount\n",
    "- Passenger count\n",
    "- Pickup latitude & longitude\n",
    "- Drop latitude & longitude"
   ]
  },
  {
   "cell_type": "code",
   "execution_count": 107,
   "id": "9382dc2c",
   "metadata": {},
   "outputs": [
    {
     "data": {
      "text/html": [
       "<div>\n",
       "<style scoped>\n",
       "    .dataframe tbody tr th:only-of-type {\n",
       "        vertical-align: middle;\n",
       "    }\n",
       "\n",
       "    .dataframe tbody tr th {\n",
       "        vertical-align: top;\n",
       "    }\n",
       "\n",
       "    .dataframe thead th {\n",
       "        text-align: right;\n",
       "    }\n",
       "</style>\n",
       "<table border=\"1\" class=\"dataframe\">\n",
       "  <thead>\n",
       "    <tr style=\"text-align: right;\">\n",
       "      <th></th>\n",
       "      <th>fare_amount</th>\n",
       "      <th>pickup_longitude</th>\n",
       "      <th>pickup_latitude</th>\n",
       "      <th>dropoff_longitude</th>\n",
       "      <th>dropoff_latitude</th>\n",
       "      <th>passenger_count</th>\n",
       "      <th>year</th>\n",
       "      <th>month</th>\n",
       "      <th>day</th>\n",
       "      <th>weekday</th>\n",
       "      <th>...</th>\n",
       "      <th>pickup_datetime_year</th>\n",
       "      <th>pickup_datetime_month</th>\n",
       "      <th>pickup_datetime_day</th>\n",
       "      <th>pickup_datetime_weekday</th>\n",
       "      <th>trip_distance</th>\n",
       "      <th>jfk_drop_distance</th>\n",
       "      <th>lga_drop_distance</th>\n",
       "      <th>ewr_drop_distance</th>\n",
       "      <th>met_drop_distance</th>\n",
       "      <th>wtc_drop_distance</th>\n",
       "    </tr>\n",
       "  </thead>\n",
       "  <tbody>\n",
       "    <tr>\n",
       "      <th>count</th>\n",
       "      <td>431072.000000</td>\n",
       "      <td>431072.000000</td>\n",
       "      <td>431072.000000</td>\n",
       "      <td>431072.000000</td>\n",
       "      <td>431072.000000</td>\n",
       "      <td>431072.000000</td>\n",
       "      <td>431072.000000</td>\n",
       "      <td>431072.000000</td>\n",
       "      <td>431072.000000</td>\n",
       "      <td>431072.000000</td>\n",
       "      <td>...</td>\n",
       "      <td>431072.000000</td>\n",
       "      <td>431072.000000</td>\n",
       "      <td>431072.000000</td>\n",
       "      <td>431072.000000</td>\n",
       "      <td>4.310720e+05</td>\n",
       "      <td>431072.000000</td>\n",
       "      <td>431072.000000</td>\n",
       "      <td>431072.000000</td>\n",
       "      <td>431072.000000</td>\n",
       "      <td>431072.000000</td>\n",
       "    </tr>\n",
       "    <tr>\n",
       "      <th>mean</th>\n",
       "      <td>11.347415</td>\n",
       "      <td>-73.998199</td>\n",
       "      <td>40.839939</td>\n",
       "      <td>-73.998314</td>\n",
       "      <td>40.751318</td>\n",
       "      <td>1.689537</td>\n",
       "      <td>2011.737835</td>\n",
       "      <td>6.265334</td>\n",
       "      <td>15.727085</td>\n",
       "      <td>3.037474</td>\n",
       "      <td>...</td>\n",
       "      <td>2011.737835</td>\n",
       "      <td>6.265334</td>\n",
       "      <td>15.727085</td>\n",
       "      <td>3.037474</td>\n",
       "      <td>3.328946e+00</td>\n",
       "      <td>20.914325</td>\n",
       "      <td>9.694424</td>\n",
       "      <td>18.472101</td>\n",
       "      <td>4.495591</td>\n",
       "      <td>5.963722</td>\n",
       "    </tr>\n",
       "    <tr>\n",
       "      <th>std</th>\n",
       "      <td>9.736885</td>\n",
       "      <td>0.045736</td>\n",
       "      <td>0.093922</td>\n",
       "      <td>0.045392</td>\n",
       "      <td>0.033151</td>\n",
       "      <td>1.306558</td>\n",
       "      <td>1.863460</td>\n",
       "      <td>3.435738</td>\n",
       "      <td>8.690846</td>\n",
       "      <td>1.950052</td>\n",
       "      <td>...</td>\n",
       "      <td>1.863460</td>\n",
       "      <td>3.435738</td>\n",
       "      <td>8.690846</td>\n",
       "      <td>1.950052</td>\n",
       "      <td>3.746379e+00</td>\n",
       "      <td>3.106583</td>\n",
       "      <td>3.094140</td>\n",
       "      <td>3.765062</td>\n",
       "      <td>3.809559</td>\n",
       "      <td>4.000671</td>\n",
       "    </tr>\n",
       "    <tr>\n",
       "      <th>min</th>\n",
       "      <td>1.000000</td>\n",
       "      <td>-74.934593</td>\n",
       "      <td>40.063896</td>\n",
       "      <td>-74.946442</td>\n",
       "      <td>40.054207</td>\n",
       "      <td>1.000000</td>\n",
       "      <td>2009.000000</td>\n",
       "      <td>1.000000</td>\n",
       "      <td>1.000000</td>\n",
       "      <td>0.000000</td>\n",
       "      <td>...</td>\n",
       "      <td>2009.000000</td>\n",
       "      <td>1.000000</td>\n",
       "      <td>1.000000</td>\n",
       "      <td>0.000000</td>\n",
       "      <td>2.828477e-07</td>\n",
       "      <td>0.305535</td>\n",
       "      <td>0.116385</td>\n",
       "      <td>0.129259</td>\n",
       "      <td>0.031095</td>\n",
       "      <td>0.009334</td>\n",
       "    </tr>\n",
       "    <tr>\n",
       "      <th>25%</th>\n",
       "      <td>6.000000</td>\n",
       "      <td>-73.992233</td>\n",
       "      <td>40.736549</td>\n",
       "      <td>-73.991631</td>\n",
       "      <td>40.735482</td>\n",
       "      <td>1.000000</td>\n",
       "      <td>2010.000000</td>\n",
       "      <td>3.000000</td>\n",
       "      <td>8.000000</td>\n",
       "      <td>1.000000</td>\n",
       "      <td>...</td>\n",
       "      <td>2010.000000</td>\n",
       "      <td>3.000000</td>\n",
       "      <td>8.000000</td>\n",
       "      <td>1.000000</td>\n",
       "      <td>1.253326e+00</td>\n",
       "      <td>20.520671</td>\n",
       "      <td>8.324476</td>\n",
       "      <td>16.473049</td>\n",
       "      <td>2.140233</td>\n",
       "      <td>3.580354</td>\n",
       "    </tr>\n",
       "    <tr>\n",
       "      <th>50%</th>\n",
       "      <td>8.500000</td>\n",
       "      <td>-73.982101</td>\n",
       "      <td>40.753345</td>\n",
       "      <td>-73.980637</td>\n",
       "      <td>40.753777</td>\n",
       "      <td>1.000000</td>\n",
       "      <td>2012.000000</td>\n",
       "      <td>6.000000</td>\n",
       "      <td>16.000000</td>\n",
       "      <td>3.000000</td>\n",
       "      <td>...</td>\n",
       "      <td>2012.000000</td>\n",
       "      <td>6.000000</td>\n",
       "      <td>16.000000</td>\n",
       "      <td>3.000000</td>\n",
       "      <td>2.152249e+00</td>\n",
       "      <td>21.174419</td>\n",
       "      <td>9.524575</td>\n",
       "      <td>17.955460</td>\n",
       "      <td>3.720834</td>\n",
       "      <td>5.487226</td>\n",
       "    </tr>\n",
       "    <tr>\n",
       "      <th>75%</th>\n",
       "      <td>12.500000</td>\n",
       "      <td>-73.968353</td>\n",
       "      <td>40.767456</td>\n",
       "      <td>-73.965454</td>\n",
       "      <td>40.768353</td>\n",
       "      <td>2.000000</td>\n",
       "      <td>2013.000000</td>\n",
       "      <td>9.000000</td>\n",
       "      <td>23.000000</td>\n",
       "      <td>5.000000</td>\n",
       "      <td>...</td>\n",
       "      <td>2013.000000</td>\n",
       "      <td>9.000000</td>\n",
       "      <td>23.000000</td>\n",
       "      <td>5.000000</td>\n",
       "      <td>3.913149e+00</td>\n",
       "      <td>21.898163</td>\n",
       "      <td>10.989441</td>\n",
       "      <td>19.782233</td>\n",
       "      <td>5.903126</td>\n",
       "      <td>7.640554</td>\n",
       "    </tr>\n",
       "    <tr>\n",
       "      <th>max</th>\n",
       "      <td>499.000000</td>\n",
       "      <td>-72.471581</td>\n",
       "      <td>41.667648</td>\n",
       "      <td>-72.113823</td>\n",
       "      <td>41.683928</td>\n",
       "      <td>6.000000</td>\n",
       "      <td>2015.000000</td>\n",
       "      <td>12.000000</td>\n",
       "      <td>31.000000</td>\n",
       "      <td>6.000000</td>\n",
       "      <td>...</td>\n",
       "      <td>2015.000000</td>\n",
       "      <td>12.000000</td>\n",
       "      <td>31.000000</td>\n",
       "      <td>6.000000</td>\n",
       "      <td>1.134746e+02</td>\n",
       "      <td>141.011909</td>\n",
       "      <td>150.943364</td>\n",
       "      <td>174.761327</td>\n",
       "      <td>158.388180</td>\n",
       "      <td>161.233839</td>\n",
       "    </tr>\n",
       "  </tbody>\n",
       "</table>\n",
       "<p>8 rows × 21 columns</p>\n",
       "</div>"
      ],
      "text/plain": [
       "         fare_amount  pickup_longitude  pickup_latitude  dropoff_longitude  \\\n",
       "count  431072.000000  431072.000000     431072.000000    431072.000000       \n",
       "mean   11.347415     -73.998199         40.839939       -73.998314           \n",
       "std    9.736885       0.045736          0.093922         0.045392            \n",
       "min    1.000000      -74.934593         40.063896       -74.946442           \n",
       "25%    6.000000      -73.992233         40.736549       -73.991631           \n",
       "50%    8.500000      -73.982101         40.753345       -73.980637           \n",
       "75%    12.500000     -73.968353         40.767456       -73.965454           \n",
       "max    499.000000    -72.471581         41.667648       -72.113823           \n",
       "\n",
       "       dropoff_latitude  passenger_count           year          month  \\\n",
       "count  431072.000000     431072.000000    431072.000000  431072.000000   \n",
       "mean   40.751318         1.689537         2011.737835    6.265334        \n",
       "std    0.033151          1.306558         1.863460       3.435738        \n",
       "min    40.054207         1.000000         2009.000000    1.000000        \n",
       "25%    40.735482         1.000000         2010.000000    3.000000        \n",
       "50%    40.753777         1.000000         2012.000000    6.000000        \n",
       "75%    40.768353         2.000000         2013.000000    9.000000        \n",
       "max    41.683928         6.000000         2015.000000    12.000000       \n",
       "\n",
       "                 day        weekday  ...  pickup_datetime_year  \\\n",
       "count  431072.000000  431072.000000  ...  431072.000000          \n",
       "mean   15.727085      3.037474       ...  2011.737835            \n",
       "std    8.690846       1.950052       ...  1.863460               \n",
       "min    1.000000       0.000000       ...  2009.000000            \n",
       "25%    8.000000       1.000000       ...  2010.000000            \n",
       "50%    16.000000      3.000000       ...  2012.000000            \n",
       "75%    23.000000      5.000000       ...  2013.000000            \n",
       "max    31.000000      6.000000       ...  2015.000000            \n",
       "\n",
       "       pickup_datetime_month  pickup_datetime_day  pickup_datetime_weekday  \\\n",
       "count  431072.000000          431072.000000        431072.000000             \n",
       "mean   6.265334               15.727085            3.037474                  \n",
       "std    3.435738               8.690846             1.950052                  \n",
       "min    1.000000               1.000000             0.000000                  \n",
       "25%    3.000000               8.000000             1.000000                  \n",
       "50%    6.000000               16.000000            3.000000                  \n",
       "75%    9.000000               23.000000            5.000000                  \n",
       "max    12.000000              31.000000            6.000000                  \n",
       "\n",
       "       trip_distance  jfk_drop_distance  lga_drop_distance  ewr_drop_distance  \\\n",
       "count  4.310720e+05   431072.000000      431072.000000      431072.000000       \n",
       "mean   3.328946e+00   20.914325          9.694424           18.472101           \n",
       "std    3.746379e+00   3.106583           3.094140           3.765062            \n",
       "min    2.828477e-07   0.305535           0.116385           0.129259            \n",
       "25%    1.253326e+00   20.520671          8.324476           16.473049           \n",
       "50%    2.152249e+00   21.174419          9.524575           17.955460           \n",
       "75%    3.913149e+00   21.898163          10.989441          19.782233           \n",
       "max    1.134746e+02   141.011909         150.943364         174.761327          \n",
       "\n",
       "       met_drop_distance  wtc_drop_distance  \n",
       "count  431072.000000      431072.000000      \n",
       "mean   4.495591           5.963722           \n",
       "std    3.809559           4.000671           \n",
       "min    0.031095           0.009334           \n",
       "25%    2.140233           3.580354           \n",
       "50%    3.720834           5.487226           \n",
       "75%    5.903126           7.640554           \n",
       "max    158.388180         161.233839         \n",
       "\n",
       "[8 rows x 21 columns]"
      ]
     },
     "execution_count": 107,
     "metadata": {},
     "output_type": "execute_result"
    }
   ],
   "source": [
    "train_df.describe()"
   ]
  },
  {
   "cell_type": "code",
   "execution_count": 108,
   "id": "11904f1f",
   "metadata": {},
   "outputs": [
    {
     "data": {
      "text/html": [
       "<div>\n",
       "<style scoped>\n",
       "    .dataframe tbody tr th:only-of-type {\n",
       "        vertical-align: middle;\n",
       "    }\n",
       "\n",
       "    .dataframe tbody tr th {\n",
       "        vertical-align: top;\n",
       "    }\n",
       "\n",
       "    .dataframe thead th {\n",
       "        text-align: right;\n",
       "    }\n",
       "</style>\n",
       "<table border=\"1\" class=\"dataframe\">\n",
       "  <thead>\n",
       "    <tr style=\"text-align: right;\">\n",
       "      <th></th>\n",
       "      <th>pickup_longitude</th>\n",
       "      <th>pickup_latitude</th>\n",
       "      <th>dropoff_longitude</th>\n",
       "      <th>dropoff_latitude</th>\n",
       "      <th>passenger_count</th>\n",
       "      <th>pickup_datetime_year</th>\n",
       "      <th>pickup_datetime_month</th>\n",
       "      <th>pickup_datetime_day</th>\n",
       "      <th>pickup_datetime_weekday</th>\n",
       "      <th>pickup_datetime_hour</th>\n",
       "      <th>trip_distance</th>\n",
       "      <th>jfk_drop_distance</th>\n",
       "      <th>lga_drop_distance</th>\n",
       "      <th>ewr_drop_distance</th>\n",
       "      <th>met_drop_distance</th>\n",
       "      <th>wtc_drop_distance</th>\n",
       "    </tr>\n",
       "  </thead>\n",
       "  <tbody>\n",
       "    <tr>\n",
       "      <th>count</th>\n",
       "      <td>9914.000000</td>\n",
       "      <td>9914.000000</td>\n",
       "      <td>9914.000000</td>\n",
       "      <td>9914.000000</td>\n",
       "      <td>9914.000000</td>\n",
       "      <td>9914.000000</td>\n",
       "      <td>9914.000000</td>\n",
       "      <td>9914.000000</td>\n",
       "      <td>9914.000000</td>\n",
       "      <td>9914.000000</td>\n",
       "      <td>9914.000000</td>\n",
       "      <td>9914.000000</td>\n",
       "      <td>9914.000000</td>\n",
       "      <td>9914.000000</td>\n",
       "      <td>9914.000000</td>\n",
       "      <td>9914.000000</td>\n",
       "    </tr>\n",
       "    <tr>\n",
       "      <th>mean</th>\n",
       "      <td>-73.976181</td>\n",
       "      <td>40.750954</td>\n",
       "      <td>-73.974945</td>\n",
       "      <td>40.751743</td>\n",
       "      <td>1.671273</td>\n",
       "      <td>2011.815816</td>\n",
       "      <td>6.857979</td>\n",
       "      <td>16.194170</td>\n",
       "      <td>2.852834</td>\n",
       "      <td>13.467420</td>\n",
       "      <td>3.433217</td>\n",
       "      <td>20.916707</td>\n",
       "      <td>9.675209</td>\n",
       "      <td>18.546655</td>\n",
       "      <td>4.512975</td>\n",
       "      <td>6.037621</td>\n",
       "    </tr>\n",
       "    <tr>\n",
       "      <th>std</th>\n",
       "      <td>0.042799</td>\n",
       "      <td>0.033542</td>\n",
       "      <td>0.039093</td>\n",
       "      <td>0.035435</td>\n",
       "      <td>1.278756</td>\n",
       "      <td>1.803347</td>\n",
       "      <td>3.353272</td>\n",
       "      <td>8.838482</td>\n",
       "      <td>1.994451</td>\n",
       "      <td>6.868584</td>\n",
       "      <td>3.969883</td>\n",
       "      <td>3.303942</td>\n",
       "      <td>3.295656</td>\n",
       "      <td>4.035818</td>\n",
       "      <td>4.018438</td>\n",
       "      <td>4.252537</td>\n",
       "    </tr>\n",
       "    <tr>\n",
       "      <th>min</th>\n",
       "      <td>-74.252190</td>\n",
       "      <td>40.573143</td>\n",
       "      <td>-74.263245</td>\n",
       "      <td>40.568973</td>\n",
       "      <td>1.000000</td>\n",
       "      <td>2009.000000</td>\n",
       "      <td>1.000000</td>\n",
       "      <td>1.000000</td>\n",
       "      <td>0.000000</td>\n",
       "      <td>0.000000</td>\n",
       "      <td>0.000009</td>\n",
       "      <td>0.402057</td>\n",
       "      <td>0.285510</td>\n",
       "      <td>0.284706</td>\n",
       "      <td>0.085728</td>\n",
       "      <td>0.040386</td>\n",
       "    </tr>\n",
       "    <tr>\n",
       "      <th>25%</th>\n",
       "      <td>-73.992500</td>\n",
       "      <td>40.736125</td>\n",
       "      <td>-73.991249</td>\n",
       "      <td>40.735254</td>\n",
       "      <td>1.000000</td>\n",
       "      <td>2010.000000</td>\n",
       "      <td>4.000000</td>\n",
       "      <td>9.000000</td>\n",
       "      <td>1.000000</td>\n",
       "      <td>8.000000</td>\n",
       "      <td>1.297281</td>\n",
       "      <td>20.513366</td>\n",
       "      <td>8.311562</td>\n",
       "      <td>16.520468</td>\n",
       "      <td>2.126326</td>\n",
       "      <td>3.669914</td>\n",
       "    </tr>\n",
       "    <tr>\n",
       "      <th>50%</th>\n",
       "      <td>-73.982327</td>\n",
       "      <td>40.753052</td>\n",
       "      <td>-73.980015</td>\n",
       "      <td>40.754065</td>\n",
       "      <td>1.000000</td>\n",
       "      <td>2012.000000</td>\n",
       "      <td>7.000000</td>\n",
       "      <td>16.000000</td>\n",
       "      <td>3.000000</td>\n",
       "      <td>15.000000</td>\n",
       "      <td>2.215669</td>\n",
       "      <td>21.181394</td>\n",
       "      <td>9.477792</td>\n",
       "      <td>18.024364</td>\n",
       "      <td>3.698360</td>\n",
       "      <td>5.541418</td>\n",
       "    </tr>\n",
       "    <tr>\n",
       "      <th>75%</th>\n",
       "      <td>-73.968012</td>\n",
       "      <td>40.767113</td>\n",
       "      <td>-73.964062</td>\n",
       "      <td>40.768757</td>\n",
       "      <td>2.000000</td>\n",
       "      <td>2014.000000</td>\n",
       "      <td>10.000000</td>\n",
       "      <td>25.000000</td>\n",
       "      <td>5.000000</td>\n",
       "      <td>19.000000</td>\n",
       "      <td>4.042928</td>\n",
       "      <td>21.909781</td>\n",
       "      <td>10.965471</td>\n",
       "      <td>19.880521</td>\n",
       "      <td>5.922760</td>\n",
       "      <td>7.757408</td>\n",
       "    </tr>\n",
       "    <tr>\n",
       "      <th>max</th>\n",
       "      <td>-72.986534</td>\n",
       "      <td>41.709557</td>\n",
       "      <td>-72.990967</td>\n",
       "      <td>41.696683</td>\n",
       "      <td>6.000000</td>\n",
       "      <td>2015.000000</td>\n",
       "      <td>12.000000</td>\n",
       "      <td>31.000000</td>\n",
       "      <td>6.000000</td>\n",
       "      <td>23.000000</td>\n",
       "      <td>99.933359</td>\n",
       "      <td>134.497657</td>\n",
       "      <td>126.062486</td>\n",
       "      <td>149.400789</td>\n",
       "      <td>130.347048</td>\n",
       "      <td>138.619454</td>\n",
       "    </tr>\n",
       "  </tbody>\n",
       "</table>\n",
       "</div>"
      ],
      "text/plain": [
       "       pickup_longitude  pickup_latitude  dropoff_longitude  dropoff_latitude  \\\n",
       "count  9914.000000       9914.000000      9914.000000        9914.000000        \n",
       "mean  -73.976181         40.750954       -73.974945          40.751743          \n",
       "std    0.042799          0.033542         0.039093           0.035435           \n",
       "min   -74.252190         40.573143       -74.263245          40.568973          \n",
       "25%   -73.992500         40.736125       -73.991249          40.735254          \n",
       "50%   -73.982327         40.753052       -73.980015          40.754065          \n",
       "75%   -73.968012         40.767113       -73.964062          40.768757          \n",
       "max   -72.986534         41.709557       -72.990967          41.696683          \n",
       "\n",
       "       passenger_count  pickup_datetime_year  pickup_datetime_month  \\\n",
       "count  9914.000000      9914.000000           9914.000000             \n",
       "mean   1.671273         2011.815816           6.857979                \n",
       "std    1.278756         1.803347              3.353272                \n",
       "min    1.000000         2009.000000           1.000000                \n",
       "25%    1.000000         2010.000000           4.000000                \n",
       "50%    1.000000         2012.000000           7.000000                \n",
       "75%    2.000000         2014.000000           10.000000               \n",
       "max    6.000000         2015.000000           12.000000               \n",
       "\n",
       "       pickup_datetime_day  pickup_datetime_weekday  pickup_datetime_hour  \\\n",
       "count  9914.000000          9914.000000              9914.000000            \n",
       "mean   16.194170            2.852834                 13.467420              \n",
       "std    8.838482             1.994451                 6.868584               \n",
       "min    1.000000             0.000000                 0.000000               \n",
       "25%    9.000000             1.000000                 8.000000               \n",
       "50%    16.000000            3.000000                 15.000000              \n",
       "75%    25.000000            5.000000                 19.000000              \n",
       "max    31.000000            6.000000                 23.000000              \n",
       "\n",
       "       trip_distance  jfk_drop_distance  lga_drop_distance  ewr_drop_distance  \\\n",
       "count  9914.000000    9914.000000        9914.000000        9914.000000         \n",
       "mean   3.433217       20.916707          9.675209           18.546655           \n",
       "std    3.969883       3.303942           3.295656           4.035818            \n",
       "min    0.000009       0.402057           0.285510           0.284706            \n",
       "25%    1.297281       20.513366          8.311562           16.520468           \n",
       "50%    2.215669       21.181394          9.477792           18.024364           \n",
       "75%    4.042928       21.909781          10.965471          19.880521           \n",
       "max    99.933359      134.497657         126.062486         149.400789          \n",
       "\n",
       "       met_drop_distance  wtc_drop_distance  \n",
       "count  9914.000000        9914.000000        \n",
       "mean   4.512975           6.037621           \n",
       "std    4.018438           4.252537           \n",
       "min    0.085728           0.040386           \n",
       "25%    2.126326           3.669914           \n",
       "50%    3.698360           5.541418           \n",
       "75%    5.922760           7.757408           \n",
       "max    130.347048         138.619454         "
      ]
     },
     "execution_count": 108,
     "metadata": {},
     "output_type": "execute_result"
    }
   ],
   "source": [
    "test_df.describe()"
   ]
  },
  {
   "cell_type": "code",
   "execution_count": 109,
   "id": "6824febd",
   "metadata": {},
   "outputs": [],
   "source": [
    "train_df = remove_outliers(train_df)"
   ]
  },
  {
   "cell_type": "code",
   "execution_count": 110,
   "id": "18991d8b",
   "metadata": {},
   "outputs": [],
   "source": [
    "val_df = remove_outliers(val_df)"
   ]
  },
  {
   "cell_type": "markdown",
   "id": "735a6670",
   "metadata": {},
   "source": [
    "----"
   ]
  },
  {
   "cell_type": "markdown",
   "id": "2785d848",
   "metadata": {},
   "source": [
    "Train & Evaluate Different Models\n",
    "\n",
    "- Linear Regression\n",
    "- Random Forests\n",
    "- Gradient Boosting\n",
    "\n",
    "Exercise: Train Ridge, SVM, KNN, Decision Tree models"
   ]
  },
  {
   "cell_type": "markdown",
   "id": "5b45dfda",
   "metadata": {},
   "source": [
    "### Split Inputs & Targets"
   ]
  },
  {
   "cell_type": "code",
   "execution_count": 111,
   "id": "cd6ff5ea",
   "metadata": {},
   "outputs": [
    {
     "data": {
      "text/plain": [
       "Index(['fare_amount', 'pickup_datetime', 'pickup_longitude', 'pickup_latitude',\n",
       "       'dropoff_longitude', 'dropoff_latitude', 'passenger_count', 'year',\n",
       "       'month', 'day', 'weekday', 'pickup_datetime_hour',\n",
       "       'pickup_datetime_year', 'pickup_datetime_month', 'pickup_datetime_day',\n",
       "       'pickup_datetime_weekday', 'trip_distance', 'jfk_drop_distance',\n",
       "       'lga_drop_distance', 'ewr_drop_distance', 'met_drop_distance',\n",
       "       'wtc_drop_distance'],\n",
       "      dtype='object')"
      ]
     },
     "execution_count": 111,
     "metadata": {},
     "output_type": "execute_result"
    }
   ],
   "source": [
    "train_df.columns"
   ]
  },
  {
   "cell_type": "code",
   "execution_count": 112,
   "id": "d24fdfdd",
   "metadata": {},
   "outputs": [],
   "source": [
    "input_cols = ['pickup_longitude', 'pickup_latitude',\n",
    "       'dropoff_longitude', 'dropoff_latitude', 'passenger_count', 'pickup_datetime_hour',\n",
    "       'pickup_datetime_year', 'pickup_datetime_month', 'pickup_datetime_day',\n",
    "       'pickup_datetime_weekday', 'trip_distance', 'jfk_drop_distance',\n",
    "       'lga_drop_distance', 'ewr_drop_distance', 'met_drop_distance',\n",
    "       'wtc_drop_distance']"
   ]
  },
  {
   "cell_type": "code",
   "execution_count": 113,
   "id": "0771e32b",
   "metadata": {},
   "outputs": [],
   "source": [
    "target_col = 'fare_amount'"
   ]
  },
  {
   "cell_type": "code",
   "execution_count": 114,
   "id": "56cea770",
   "metadata": {},
   "outputs": [],
   "source": [
    "train_inputs = train_df[input_cols]\n",
    "train_targets = train_df[target_col]"
   ]
  },
  {
   "cell_type": "code",
   "execution_count": 115,
   "id": "0c727e7f",
   "metadata": {},
   "outputs": [],
   "source": [
    "val_inputs = val_df[input_cols]\n",
    "val_targets = val_df[target_col]"
   ]
  },
  {
   "cell_type": "code",
   "execution_count": 116,
   "id": "988f22a4",
   "metadata": {},
   "outputs": [],
   "source": [
    "test_inputs = test_df[input_cols]"
   ]
  },
  {
   "cell_type": "code",
   "execution_count": 117,
   "id": "ffa8f037",
   "metadata": {},
   "outputs": [],
   "source": [
    "def evaluate(model):\n",
    "    train_preds = model.predict(train_inputs)\n",
    "    train_rmse = mean_squared_error(train_targets, train_preds, squared= False)\n",
    "    val_preds = model.predict(val_inputs)\n",
    "    val_rmse = mean_squared_error(val_targets, val_preds, squared= False)\n",
    "    return train_rmse, val_rmse, train_preds, val_preds"
   ]
  },
  {
   "cell_type": "markdown",
   "id": "4a499a48",
   "metadata": {},
   "source": [
    "### Ridge Regression"
   ]
  },
  {
   "cell_type": "code",
   "execution_count": 118,
   "id": "b9682e0e",
   "metadata": {},
   "outputs": [],
   "source": [
    "from sklearn.linear_model import Ridge"
   ]
  },
  {
   "cell_type": "code",
   "execution_count": 119,
   "id": "00f87866",
   "metadata": {},
   "outputs": [],
   "source": [
    "model1 = Ridge(random_state=42)"
   ]
  },
  {
   "cell_type": "code",
   "execution_count": 120,
   "id": "e71e1220",
   "metadata": {},
   "outputs": [
    {
     "name": "stdout",
     "output_type": "stream",
     "text": [
      "CPU times: user 92.2 ms, sys: 42.8 ms, total: 135 ms\n",
      "Wall time: 121 ms\n"
     ]
    },
    {
     "data": {
      "text/plain": [
       "Ridge(random_state=42)"
      ]
     },
     "execution_count": 120,
     "metadata": {},
     "output_type": "execute_result"
    }
   ],
   "source": [
    "%%time\n",
    "model1.fit(train_inputs, train_targets)"
   ]
  },
  {
   "cell_type": "code",
   "execution_count": 121,
   "id": "e98d0405",
   "metadata": {},
   "outputs": [
    {
     "data": {
      "text/plain": [
       "(5.099985555851985,\n",
       " 5.017244294212655,\n",
       " array([ 8.17776547, 18.25717457, 12.71974998, ...,  8.81595092,\n",
       "        14.85926432,  7.09457796]),\n",
       " array([ 7.97472317, 10.02257599, 27.78761039, ...,  7.60719645,\n",
       "         4.25085953, 16.22687312]))"
      ]
     },
     "execution_count": 121,
     "metadata": {},
     "output_type": "execute_result"
    }
   ],
   "source": [
    "evaluate(model1)"
   ]
  },
  {
   "cell_type": "markdown",
   "id": "b723e4c1",
   "metadata": {},
   "source": [
    "### Random Forest"
   ]
  },
  {
   "cell_type": "code",
   "execution_count": 122,
   "id": "0ab5e9d2",
   "metadata": {},
   "outputs": [],
   "source": [
    "from sklearn.ensemble import RandomForestRegressor"
   ]
  },
  {
   "cell_type": "code",
   "execution_count": 123,
   "id": "3b9d86ea",
   "metadata": {},
   "outputs": [],
   "source": [
    "model2 = RandomForestRegressor(max_depth=10, n_jobs= -1, random_state=42, n_estimators=50)"
   ]
  },
  {
   "cell_type": "code",
   "execution_count": 124,
   "id": "547184c3",
   "metadata": {},
   "outputs": [
    {
     "name": "stdout",
     "output_type": "stream",
     "text": [
      "CPU times: user 4min 58s, sys: 1.1 s, total: 4min 59s\n",
      "Wall time: 1min 31s\n"
     ]
    },
    {
     "data": {
      "text/plain": [
       "RandomForestRegressor(max_depth=10, n_estimators=50, n_jobs=-1, random_state=42)"
      ]
     },
     "execution_count": 124,
     "metadata": {},
     "output_type": "execute_result"
    }
   ],
   "source": [
    "%%time\n",
    "model2.fit(train_inputs, train_targets)"
   ]
  },
  {
   "cell_type": "code",
   "execution_count": 125,
   "id": "1d2adf28",
   "metadata": {},
   "outputs": [
    {
     "data": {
      "text/plain": [
       "(3.657864968260025,\n",
       " 3.9205429695354175,\n",
       " array([ 6.91269599, 19.73711273, 12.35879808, ...,  9.39170298,\n",
       "        14.34199002,  6.19565325]),\n",
       " array([ 8.71051934,  7.51705862, 24.02681488, ...,  6.60662354,\n",
       "         5.06563606, 15.83261036]))"
      ]
     },
     "execution_count": 125,
     "metadata": {},
     "output_type": "execute_result"
    }
   ],
   "source": [
    "evaluate(model2)"
   ]
  },
  {
   "cell_type": "markdown",
   "id": "c5c27e17",
   "metadata": {},
   "source": [
    "### Gradient Boosting"
   ]
  },
  {
   "cell_type": "code",
   "execution_count": 189,
   "id": "7fe97c2e",
   "metadata": {},
   "outputs": [
    {
     "name": "stdout",
     "output_type": "stream",
     "text": [
      "Collecting xgboost\n",
      "  Downloading xgboost-1.5.0-py3-none-macosx_10_14_x86_64.macosx_10_15_x86_64.macosx_11_0_x86_64.whl (1.3 MB)\n",
      "\u001b[K     |████████████████████████████████| 1.3 MB 1.1 MB/s eta 0:00:01\n",
      "\u001b[?25hRequirement already satisfied: scipy in /opt/anaconda3/lib/python3.8/site-packages (from xgboost) (1.6.2)\n",
      "Requirement already satisfied: numpy in /opt/anaconda3/lib/python3.8/site-packages (from xgboost) (1.20.3)\n",
      "Installing collected packages: xgboost\n",
      "Successfully installed xgboost-1.5.0\n"
     ]
    }
   ],
   "source": [
    "!pip install xgboost"
   ]
  },
  {
   "cell_type": "code",
   "execution_count": 191,
   "id": "5d13c04c",
   "metadata": {},
   "outputs": [
    {
     "name": "stdout",
     "output_type": "stream",
     "text": [
      "Collecting package metadata (current_repodata.json): done\n",
      "Solving environment: done\n",
      "\n",
      "## Package Plan ##\n",
      "\n",
      "  environment location: /opt/anaconda3\n",
      "\n",
      "  added / updated specs:\n",
      "    - xgboost\n",
      "\n",
      "\n",
      "The following packages will be downloaded:\n",
      "\n",
      "    package                    |            build\n",
      "    ---------------------------|-----------------\n",
      "    _py-xgboost-mutex-2.0      |            cpu_0           8 KB  conda-forge\n",
      "    ca-certificates-2021.10.8  |       h033912b_0         139 KB  conda-forge\n",
      "    certifi-2021.10.8          |   py38h50d1736_1         145 KB  conda-forge\n",
      "    conda-4.10.3               |   py38h50d1736_3         3.1 MB  conda-forge\n",
      "    libxgboost-1.3.3           |       h23ab428_0         1.2 MB\n",
      "    openssl-1.1.1l             |       h0d85af4_0         1.9 MB  conda-forge\n",
      "    py-xgboost-1.3.3           |   py38hecd8cb5_0         136 KB\n",
      "    xgboost-1.3.3              |   py38hecd8cb5_0          23 KB\n",
      "    ------------------------------------------------------------\n",
      "                                           Total:         6.6 MB\n",
      "\n",
      "The following NEW packages will be INSTALLED:\n",
      "\n",
      "  _py-xgboost-mutex  conda-forge/osx-64::_py-xgboost-mutex-2.0-cpu_0\n",
      "  libxgboost         pkgs/main/osx-64::libxgboost-1.3.3-h23ab428_0\n",
      "  py-xgboost         pkgs/main/osx-64::py-xgboost-1.3.3-py38hecd8cb5_0\n",
      "  xgboost            pkgs/main/osx-64::xgboost-1.3.3-py38hecd8cb5_0\n",
      "\n",
      "The following packages will be UPDATED:\n",
      "\n",
      "  ca-certificates    pkgs/main::ca-certificates-2021.7.5-h~ --> conda-forge::ca-certificates-2021.10.8-h033912b_0\n",
      "  certifi            pkgs/main::certifi-2021.5.30-py38hecd~ --> conda-forge::certifi-2021.10.8-py38h50d1736_1\n",
      "  conda              pkgs/main::conda-4.10.3-py38hecd8cb5_0 --> conda-forge::conda-4.10.3-py38h50d1736_3\n",
      "  openssl              pkgs/main::openssl-1.1.1k-h9ed2024_0 --> conda-forge::openssl-1.1.1l-h0d85af4_0\n",
      "\n",
      "\n",
      "\n",
      "Downloading and Extracting Packages\n",
      "ca-certificates-2021 | 139 KB    | ##################################### | 100% \n",
      "_py-xgboost-mutex-2. | 8 KB      | ##################################### | 100% \n",
      "libxgboost-1.3.3     | 1.2 MB    | ##################################### | 100% \n",
      "xgboost-1.3.3        | 23 KB     | ##################################### | 100% \n",
      "openssl-1.1.1l       | 1.9 MB    | ##################################### | 100% \n",
      "certifi-2021.10.8    | 145 KB    | ##################################### | 100% \n",
      "py-xgboost-1.3.3     | 136 KB    | ##################################### | 100% \n",
      "conda-4.10.3         | 3.1 MB    | ##################################### | 100% \n",
      "Preparing transaction: done\n",
      "Verifying transaction: done\n",
      "Executing transaction: done\n",
      "\n",
      "Note: you may need to restart the kernel to use updated packages.\n"
     ]
    }
   ],
   "source": [
    "conda install -c conda-forge xgboost"
   ]
  },
  {
   "cell_type": "code",
   "execution_count": 127,
   "id": "88a41875",
   "metadata": {},
   "outputs": [
    {
     "name": "stdout",
     "output_type": "stream",
     "text": [
      "Collecting package metadata (current_repodata.json): done\n",
      "Solving environment: done\n",
      "\n",
      "## Package Plan ##\n",
      "\n",
      "  environment location: /opt/anaconda3\n",
      "\n",
      "  added / updated specs:\n",
      "    - py-xgboost\n",
      "\n",
      "\n",
      "The following packages will be SUPERSEDED by a higher-priority channel:\n",
      "\n",
      "  ca-certificates    conda-forge::ca-certificates-2021.10.~ --> anaconda::ca-certificates-2020.10.14-0\n",
      "  certifi            conda-forge::certifi-2021.10.8-py38h5~ --> anaconda::certifi-2020.6.20-py38_0\n",
      "\n",
      "\n",
      "Preparing transaction: done\n",
      "Verifying transaction: done\n",
      "Executing transaction: done\n",
      "\n",
      "Note: you may need to restart the kernel to use updated packages.\n"
     ]
    }
   ],
   "source": [
    "conda install -c anaconda py-xgboost"
   ]
  },
  {
   "cell_type": "code",
   "execution_count": 128,
   "id": "573da129",
   "metadata": {},
   "outputs": [],
   "source": [
    "from xgboost import XGBRegressor"
   ]
  },
  {
   "cell_type": "code",
   "execution_count": 129,
   "id": "7455b1bc",
   "metadata": {},
   "outputs": [],
   "source": [
    "model3 = XGBRegressor(randon_state=42, n_jobs=-1, objective='reg:squarederror')"
   ]
  },
  {
   "cell_type": "code",
   "execution_count": 130,
   "id": "332c11c7",
   "metadata": {},
   "outputs": [
    {
     "name": "stdout",
     "output_type": "stream",
     "text": [
      "[15:25:05] WARNING: /opt/concourse/worker/volumes/live/7a2b9f41-3287-451b-6691-43e9a6c0910f/volume/xgboost-split_1619728204606/work/src/learner.cc:541: \n",
      "Parameters: { randon_state } might not be used.\n",
      "\n",
      "  This may not be accurate due to some parameters are only used in language bindings but\n",
      "  passed down to XGBoost core.  Or some parameters are not used but slip through this\n",
      "  verification. Please open an issue if you find above cases.\n",
      "\n",
      "\n",
      "CPU times: user 3min 17s, sys: 708 ms, total: 3min 18s\n",
      "Wall time: 53.3 s\n"
     ]
    },
    {
     "data": {
      "text/plain": [
       "XGBRegressor(base_score=0.5, booster='gbtree', colsample_bylevel=1,\n",
       "             colsample_bynode=1, colsample_bytree=1, gamma=0, gpu_id=-1,\n",
       "             importance_type='gain', interaction_constraints='',\n",
       "             learning_rate=0.300000012, max_delta_step=0, max_depth=6,\n",
       "             min_child_weight=1, missing=nan, monotone_constraints='()',\n",
       "             n_estimators=100, n_jobs=-1, num_parallel_tree=1, random_state=0,\n",
       "             randon_state=42, reg_alpha=0, reg_lambda=1, scale_pos_weight=1,\n",
       "             subsample=1, tree_method='exact', validate_parameters=1,\n",
       "             verbosity=None)"
      ]
     },
     "execution_count": 130,
     "metadata": {},
     "output_type": "execute_result"
    }
   ],
   "source": [
    "%%time\n",
    "model3.fit(train_inputs, train_targets)"
   ]
  },
  {
   "cell_type": "code",
   "execution_count": 131,
   "id": "5ae7ac23",
   "metadata": {},
   "outputs": [
    {
     "data": {
      "text/plain": [
       "(3.0872405,\n",
       " 3.7793114,\n",
       " array([ 7.136262 , 19.120958 , 11.548635 , ...,  8.697179 , 12.581748 ,\n",
       "         6.1059904], dtype=float32),\n",
       " array([ 8.203697 ,  7.2130895, 25.027363 , ...,  6.3052692,  4.4525485,\n",
       "        17.92307  ], dtype=float32))"
      ]
     },
     "execution_count": 131,
     "metadata": {},
     "output_type": "execute_result"
    }
   ],
   "source": [
    "evaluate(model3)"
   ]
  },
  {
   "cell_type": "markdown",
   "id": "395068d9",
   "metadata": {},
   "source": [
    "### Tune Hyperparameters"
   ]
  },
  {
   "cell_type": "code",
   "execution_count": 135,
   "id": "cbd64668",
   "metadata": {},
   "outputs": [],
   "source": [
    "import matplotlib.pyplot as plt\n",
    "\n",
    "def test_params(ModelClass, **params):\n",
    "    \"\"\"Trains a model with the given parameters and returns training & validation RMSE\"\"\"\n",
    "    model = ModelClass(**params).fit(train_inputs, train_targets)\n",
    "    train_rmse = mean_squared_error(model.predict(train_inputs), train_targets, squared=False)\n",
    "    val_rmse = mean_squared_error(model.predict(val_inputs), val_targets, squared=False)\n",
    "    return train_rmse, val_rmse\n",
    "\n",
    "def test_param_and_plot(ModelClass, param_name, param_values, **other_params):\n",
    "    \"\"\"Trains multiple models by varying the value of param_name according to param_values\"\"\"\n",
    "    train_errors, val_errors = [], [] \n",
    "    for value in param_values:\n",
    "        params = dict(other_params)\n",
    "        params[param_name] = value\n",
    "        train_rmse, val_rmse = test_params(ModelClass, **params)\n",
    "        train_errors.append(train_rmse)\n",
    "        val_errors.append(val_rmse)\n",
    "    \n",
    "    plt.figure(figsize=(10,6))\n",
    "    plt.title('Overfitting curve: ' + param_name)\n",
    "    plt.plot(param_values, train_errors, 'b-o')\n",
    "    plt.plot(param_values, val_errors, 'r-o')\n",
    "    plt.xlabel(param_name)\n",
    "    plt.ylabel('RMSE')\n",
    "    plt.legend(['Training', 'Validation'])"
   ]
  },
  {
   "cell_type": "code",
   "execution_count": 136,
   "id": "f65cc4dc",
   "metadata": {},
   "outputs": [],
   "source": [
    "best_params = {\n",
    "    'random_state': 42,\n",
    "    'n_jobs': -1,\n",
    "    'objective': 'reg:squarederror'\n",
    "}"
   ]
  },
  {
   "cell_type": "code",
   "execution_count": 138,
   "id": "f9848416",
   "metadata": {},
   "outputs": [
    {
     "data": {
      "image/png": "[encoded data removed]",
      "text/plain": [
       "<Figure size 1000x600 with 1 Axes>"
      ]
     },
     "metadata": {},
     "output_type": "display_data"
    },
    {
     "data": {
      "image/png": "[encoded data removed]",
      "text/plain": [
       "<Figure size 1000x600 with 1 Axes>"
      ]
     },
     "metadata": {},
     "output_type": "display_data"
    },
    {
     "data": {
      "image/png": "[encoded data removed]",
      "text/plain": [
       "<Figure size 1000x600 with 1 Axes>"
      ]
     },
     "metadata": {},
     "output_type": "display_data"
    },
    {
     "name": "stdout",
     "output_type": "stream",
     "text": [
      "CPU times: user 27min 57s, sys: 4.25 s, total: 28min 2s\n",
      "Wall time: 7min 16s\n"
     ]
    }
   ],
   "source": [
    "%%time \n",
    "test_param_and_plot(XGBRegressor, 'n_estimators', [100, 250, 500], **best_params)\n",
    "plt.show()"
   ]
  },
  {
   "cell_type": "code",
   "execution_count": null,
   "id": "492f8d33",
   "metadata": {},
   "outputs": [],
   "source": []
  }
 ],
 "metadata": {
  "kernelspec": {
   "display_name": "Python 3",
   "language": "python",
   "name": "python3"
  },
  "language_info": {
   "codemirror_mode": {
    "name": "ipython",
    "version": 3
   },
   "file_extension": ".py",
   "mimetype": "text/x-python",
   "name": "python",
   "nbconvert_exporter": "python",
   "pygments_lexer": "ipython3",
   "version": "3.8.11"
  }
 },
 "nbformat": 4,
 "nbformat_minor": 5
}
